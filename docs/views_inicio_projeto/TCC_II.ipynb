{
 "cells": [
  {
   "cell_type": "markdown",
   "id": "c5955e0a",
   "metadata": {},
   "source": [
    "# Este script faz a leitura inicial da base original e cria uma base contendo apenas as colunas que serão utilizadas."
   ]
  },
  {
   "cell_type": "code",
   "execution_count": 1,
   "id": "b502c67f",
   "metadata": {},
   "outputs": [],
   "source": [
    "import pandas as pd\n",
    "import numpy as np"
   ]
  },
  {
   "cell_type": "code",
   "execution_count": 2,
   "id": "8eceb9bb",
   "metadata": {},
   "outputs": [],
   "source": [
    "url_or_file = 'MICRODADOS_ENEM_2021.csv'"
   ]
  },
  {
   "cell_type": "code",
   "execution_count": 3,
   "id": "277e77ad",
   "metadata": {},
   "outputs": [],
   "source": [
    "dados = pd.read_csv(url_or_file, sep = ';', encoding = 'ISO-8859-1')"
   ]
  },
  {
   "cell_type": "code",
   "execution_count": 4,
   "id": "953fca48",
   "metadata": {},
   "outputs": [
    {
     "data": {
      "text/html": [
       "<div>\n",
       "<style scoped>\n",
       "    .dataframe tbody tr th:only-of-type {\n",
       "        vertical-align: middle;\n",
       "    }\n",
       "\n",
       "    .dataframe tbody tr th {\n",
       "        vertical-align: top;\n",
       "    }\n",
       "\n",
       "    .dataframe thead th {\n",
       "        text-align: right;\n",
       "    }\n",
       "</style>\n",
       "<table border=\"1\" class=\"dataframe\">\n",
       "  <thead>\n",
       "    <tr style=\"text-align: right;\">\n",
       "      <th></th>\n",
       "      <th>NU_INSCRICAO</th>\n",
       "      <th>NU_ANO</th>\n",
       "      <th>TP_FAIXA_ETARIA</th>\n",
       "      <th>TP_SEXO</th>\n",
       "      <th>TP_ESTADO_CIVIL</th>\n",
       "      <th>TP_COR_RACA</th>\n",
       "      <th>TP_NACIONALIDADE</th>\n",
       "      <th>TP_ST_CONCLUSAO</th>\n",
       "      <th>TP_ANO_CONCLUIU</th>\n",
       "      <th>TP_ESCOLA</th>\n",
       "      <th>...</th>\n",
       "      <th>Q016</th>\n",
       "      <th>Q017</th>\n",
       "      <th>Q018</th>\n",
       "      <th>Q019</th>\n",
       "      <th>Q020</th>\n",
       "      <th>Q021</th>\n",
       "      <th>Q022</th>\n",
       "      <th>Q023</th>\n",
       "      <th>Q024</th>\n",
       "      <th>Q025</th>\n",
       "    </tr>\n",
       "  </thead>\n",
       "  <tbody>\n",
       "    <tr>\n",
       "      <th>0</th>\n",
       "      <td>210053865474</td>\n",
       "      <td>2021</td>\n",
       "      <td>5</td>\n",
       "      <td>F</td>\n",
       "      <td>1</td>\n",
       "      <td>1</td>\n",
       "      <td>1</td>\n",
       "      <td>1</td>\n",
       "      <td>3</td>\n",
       "      <td>1</td>\n",
       "      <td>...</td>\n",
       "      <td>A</td>\n",
       "      <td>A</td>\n",
       "      <td>A</td>\n",
       "      <td>B</td>\n",
       "      <td>A</td>\n",
       "      <td>A</td>\n",
       "      <td>B</td>\n",
       "      <td>A</td>\n",
       "      <td>B</td>\n",
       "      <td>B</td>\n",
       "    </tr>\n",
       "    <tr>\n",
       "      <th>1</th>\n",
       "      <td>210052384164</td>\n",
       "      <td>2021</td>\n",
       "      <td>12</td>\n",
       "      <td>M</td>\n",
       "      <td>1</td>\n",
       "      <td>1</td>\n",
       "      <td>1</td>\n",
       "      <td>1</td>\n",
       "      <td>11</td>\n",
       "      <td>1</td>\n",
       "      <td>...</td>\n",
       "      <td>A</td>\n",
       "      <td>A</td>\n",
       "      <td>A</td>\n",
       "      <td>B</td>\n",
       "      <td>A</td>\n",
       "      <td>A</td>\n",
       "      <td>C</td>\n",
       "      <td>A</td>\n",
       "      <td>A</td>\n",
       "      <td>A</td>\n",
       "    </tr>\n",
       "    <tr>\n",
       "      <th>2</th>\n",
       "      <td>210052589243</td>\n",
       "      <td>2021</td>\n",
       "      <td>13</td>\n",
       "      <td>F</td>\n",
       "      <td>3</td>\n",
       "      <td>1</td>\n",
       "      <td>1</td>\n",
       "      <td>1</td>\n",
       "      <td>15</td>\n",
       "      <td>1</td>\n",
       "      <td>...</td>\n",
       "      <td>B</td>\n",
       "      <td>A</td>\n",
       "      <td>A</td>\n",
       "      <td>B</td>\n",
       "      <td>A</td>\n",
       "      <td>A</td>\n",
       "      <td>C</td>\n",
       "      <td>B</td>\n",
       "      <td>B</td>\n",
       "      <td>B</td>\n",
       "    </tr>\n",
       "    <tr>\n",
       "      <th>3</th>\n",
       "      <td>210052128335</td>\n",
       "      <td>2021</td>\n",
       "      <td>3</td>\n",
       "      <td>M</td>\n",
       "      <td>1</td>\n",
       "      <td>3</td>\n",
       "      <td>1</td>\n",
       "      <td>2</td>\n",
       "      <td>0</td>\n",
       "      <td>2</td>\n",
       "      <td>...</td>\n",
       "      <td>A</td>\n",
       "      <td>A</td>\n",
       "      <td>A</td>\n",
       "      <td>B</td>\n",
       "      <td>A</td>\n",
       "      <td>A</td>\n",
       "      <td>B</td>\n",
       "      <td>A</td>\n",
       "      <td>B</td>\n",
       "      <td>B</td>\n",
       "    </tr>\n",
       "    <tr>\n",
       "      <th>4</th>\n",
       "      <td>210051353021</td>\n",
       "      <td>2021</td>\n",
       "      <td>2</td>\n",
       "      <td>F</td>\n",
       "      <td>1</td>\n",
       "      <td>3</td>\n",
       "      <td>1</td>\n",
       "      <td>2</td>\n",
       "      <td>0</td>\n",
       "      <td>2</td>\n",
       "      <td>...</td>\n",
       "      <td>B</td>\n",
       "      <td>A</td>\n",
       "      <td>A</td>\n",
       "      <td>B</td>\n",
       "      <td>A</td>\n",
       "      <td>B</td>\n",
       "      <td>E</td>\n",
       "      <td>A</td>\n",
       "      <td>B</td>\n",
       "      <td>B</td>\n",
       "    </tr>\n",
       "  </tbody>\n",
       "</table>\n",
       "<p>5 rows × 76 columns</p>\n",
       "</div>"
      ],
      "text/plain": [
       "   NU_INSCRICAO  NU_ANO  TP_FAIXA_ETARIA TP_SEXO  TP_ESTADO_CIVIL  \\\n",
       "0  210053865474    2021                5       F                1   \n",
       "1  210052384164    2021               12       M                1   \n",
       "2  210052589243    2021               13       F                3   \n",
       "3  210052128335    2021                3       M                1   \n",
       "4  210051353021    2021                2       F                1   \n",
       "\n",
       "   TP_COR_RACA  TP_NACIONALIDADE  TP_ST_CONCLUSAO  TP_ANO_CONCLUIU  TP_ESCOLA  \\\n",
       "0            1                 1                1                3          1   \n",
       "1            1                 1                1               11          1   \n",
       "2            1                 1                1               15          1   \n",
       "3            3                 1                2                0          2   \n",
       "4            3                 1                2                0          2   \n",
       "\n",
       "   ...  Q016  Q017  Q018 Q019  Q020 Q021  Q022  Q023  Q024  Q025  \n",
       "0  ...     A     A     A    B     A    A     B     A     B     B  \n",
       "1  ...     A     A     A    B     A    A     C     A     A     A  \n",
       "2  ...     B     A     A    B     A    A     C     B     B     B  \n",
       "3  ...     A     A     A    B     A    A     B     A     B     B  \n",
       "4  ...     B     A     A    B     A    B     E     A     B     B  \n",
       "\n",
       "[5 rows x 76 columns]"
      ]
     },
     "execution_count": 4,
     "metadata": {},
     "output_type": "execute_result"
    }
   ],
   "source": [
    "dados.head()"
   ]
  },
  {
   "cell_type": "code",
   "execution_count": 5,
   "id": "5a7bcd63",
   "metadata": {},
   "outputs": [
    {
     "name": "stdout",
     "output_type": "stream",
     "text": [
      "<class 'pandas.core.frame.DataFrame'>\n",
      "RangeIndex: 2685053 entries, 0 to 2685052\n",
      "Data columns (total 76 columns):\n",
      " #   Column                  Dtype  \n",
      "---  ------                  -----  \n",
      " 0   NU_INSCRICAO            int64  \n",
      " 1   NU_ANO                  int64  \n",
      " 2   TP_FAIXA_ETARIA         int64  \n",
      " 3   TP_SEXO                 object \n",
      " 4   TP_ESTADO_CIVIL         int64  \n",
      " 5   TP_COR_RACA             int64  \n",
      " 6   TP_NACIONALIDADE        int64  \n",
      " 7   TP_ST_CONCLUSAO         int64  \n",
      " 8   TP_ANO_CONCLUIU         int64  \n",
      " 9   TP_ESCOLA               int64  \n",
      " 10  TP_ENSINO               float64\n",
      " 11  IN_TREINEIRO            int64  \n",
      " 12  CO_MUNICIPIO_ESC        float64\n",
      " 13  NO_MUNICIPIO_ESC        object \n",
      " 14  CO_UF_ESC               float64\n",
      " 15  SG_UF_ESC               object \n",
      " 16  TP_DEPENDENCIA_ADM_ESC  float64\n",
      " 17  TP_LOCALIZACAO_ESC      float64\n",
      " 18  TP_SIT_FUNC_ESC         float64\n",
      " 19  CO_MUNICIPIO_PROVA      int64  \n",
      " 20  NO_MUNICIPIO_PROVA      object \n",
      " 21  CO_UF_PROVA             int64  \n",
      " 22  SG_UF_PROVA             object \n",
      " 23  TP_PRESENCA_CN          int64  \n",
      " 24  TP_PRESENCA_CH          int64  \n",
      " 25  TP_PRESENCA_LC          int64  \n",
      " 26  TP_PRESENCA_MT          int64  \n",
      " 27  CO_PROVA_CN             float64\n",
      " 28  CO_PROVA_CH             float64\n",
      " 29  CO_PROVA_LC             float64\n",
      " 30  CO_PROVA_MT             float64\n",
      " 31  NU_NOTA_CN              float64\n",
      " 32  NU_NOTA_CH              float64\n",
      " 33  NU_NOTA_LC              float64\n",
      " 34  NU_NOTA_MT              float64\n",
      " 35  TX_RESPOSTAS_CN         object \n",
      " 36  TX_RESPOSTAS_CH         object \n",
      " 37  TX_RESPOSTAS_LC         object \n",
      " 38  TX_RESPOSTAS_MT         object \n",
      " 39  TP_LINGUA               int64  \n",
      " 40  TX_GABARITO_CN          object \n",
      " 41  TX_GABARITO_CH          object \n",
      " 42  TX_GABARITO_LC          object \n",
      " 43  TX_GABARITO_MT          object \n",
      " 44  TP_STATUS_REDACAO       float64\n",
      " 45  NU_NOTA_COMP1           float64\n",
      " 46  NU_NOTA_COMP2           float64\n",
      " 47  NU_NOTA_COMP3           float64\n",
      " 48  NU_NOTA_COMP4           float64\n",
      " 49  NU_NOTA_COMP5           float64\n",
      " 50  NU_NOTA_REDACAO         float64\n",
      " 51  Q001                    object \n",
      " 52  Q002                    object \n",
      " 53  Q003                    object \n",
      " 54  Q004                    object \n",
      " 55  Q005                    float64\n",
      " 56  Q006                    object \n",
      " 57  Q007                    object \n",
      " 58  Q008                    object \n",
      " 59  Q009                    object \n",
      " 60  Q010                    object \n",
      " 61  Q011                    object \n",
      " 62  Q012                    object \n",
      " 63  Q013                    object \n",
      " 64  Q014                    object \n",
      " 65  Q015                    object \n",
      " 66  Q016                    object \n",
      " 67  Q017                    object \n",
      " 68  Q018                    object \n",
      " 69  Q019                    object \n",
      " 70  Q020                    object \n",
      " 71  Q021                    object \n",
      " 72  Q022                    object \n",
      " 73  Q023                    object \n",
      " 74  Q024                    object \n",
      " 75  Q025                    object \n",
      "dtypes: float64(22), int64(17), object(37)\n",
      "memory usage: 1.5+ GB\n"
     ]
    },
    {
     "data": {
      "text/plain": [
       "None"
      ]
     },
     "metadata": {},
     "output_type": "display_data"
    }
   ],
   "source": [
    "display(dados.info())"
   ]
  },
  {
   "cell_type": "code",
   "execution_count": 6,
   "id": "79dd2210",
   "metadata": {},
   "outputs": [],
   "source": [
    "# Criar uma nova coluna no DF para a média aritmética simples das 5 notas:\n",
    "dados['MEDIA_ENEM'] = 0.0"
   ]
  },
  {
   "cell_type": "code",
   "execution_count": 7,
   "id": "c0673bc9",
   "metadata": {},
   "outputs": [
    {
     "data": {
      "text/plain": [
       "Index(['NU_INSCRICAO', 'NU_ANO', 'TP_FAIXA_ETARIA', 'TP_SEXO',\n",
       "       'TP_ESTADO_CIVIL', 'TP_COR_RACA', 'TP_NACIONALIDADE', 'TP_ST_CONCLUSAO',\n",
       "       'TP_ANO_CONCLUIU', 'TP_ESCOLA', 'TP_ENSINO', 'IN_TREINEIRO',\n",
       "       'CO_MUNICIPIO_ESC', 'NO_MUNICIPIO_ESC', 'CO_UF_ESC', 'SG_UF_ESC',\n",
       "       'TP_DEPENDENCIA_ADM_ESC', 'TP_LOCALIZACAO_ESC', 'TP_SIT_FUNC_ESC',\n",
       "       'CO_MUNICIPIO_PROVA', 'NO_MUNICIPIO_PROVA', 'CO_UF_PROVA',\n",
       "       'SG_UF_PROVA', 'TP_PRESENCA_CN', 'TP_PRESENCA_CH', 'TP_PRESENCA_LC',\n",
       "       'TP_PRESENCA_MT', 'CO_PROVA_CN', 'CO_PROVA_CH', 'CO_PROVA_LC',\n",
       "       'CO_PROVA_MT', 'NU_NOTA_CN', 'NU_NOTA_CH', 'NU_NOTA_LC', 'NU_NOTA_MT',\n",
       "       'TX_RESPOSTAS_CN', 'TX_RESPOSTAS_CH', 'TX_RESPOSTAS_LC',\n",
       "       'TX_RESPOSTAS_MT', 'TP_LINGUA', 'TX_GABARITO_CN', 'TX_GABARITO_CH',\n",
       "       'TX_GABARITO_LC', 'TX_GABARITO_MT', 'TP_STATUS_REDACAO',\n",
       "       'NU_NOTA_COMP1', 'NU_NOTA_COMP2', 'NU_NOTA_COMP3', 'NU_NOTA_COMP4',\n",
       "       'NU_NOTA_COMP5', 'NU_NOTA_REDACAO', 'Q001', 'Q002', 'Q003', 'Q004',\n",
       "       'Q005', 'Q006', 'Q007', 'Q008', 'Q009', 'Q010', 'Q011', 'Q012', 'Q013',\n",
       "       'Q014', 'Q015', 'Q016', 'Q017', 'Q018', 'Q019', 'Q020', 'Q021', 'Q022',\n",
       "       'Q023', 'Q024', 'Q025', 'MEDIA_ENEM'],\n",
       "      dtype='object')"
      ]
     },
     "execution_count": 7,
     "metadata": {},
     "output_type": "execute_result"
    }
   ],
   "source": [
    "dados.columns"
   ]
  },
  {
   "cell_type": "code",
   "execution_count": 8,
   "id": "9dea6fd2",
   "metadata": {},
   "outputs": [
    {
     "data": {
      "text/plain": [
       "0    2316091\n",
       "1     368962\n",
       "Name: IN_TREINEIRO, dtype: int64"
      ]
     },
     "execution_count": 8,
     "metadata": {},
     "output_type": "execute_result"
    }
   ],
   "source": [
    "# Primeira análise desta variável ('IN_TREINEIRO') a fim de decidirmos pelo seu uso nas análises futuras:\n",
    "dados['IN_TREINEIRO'].value_counts()"
   ]
  },
  {
   "cell_type": "code",
   "execution_count": 9,
   "id": "c946d00f",
   "metadata": {},
   "outputs": [
    {
     "name": "stdout",
     "output_type": "stream",
     "text": [
      "Percentual de treineiros: 15.93%\n"
     ]
    }
   ],
   "source": [
    "treineiros = len(dados[dados['IN_TREINEIRO'] == 1])\n",
    "nao_treineiros = len(dados[dados['IN_TREINEIRO'] == 0])\n",
    "print(f'Percentual de treineiros: {(treineiros / nao_treineiros):.2%}')"
   ]
  },
  {
   "cell_type": "raw",
   "id": "394b5946",
   "metadata": {},
   "source": [
    "Identificação e tratamento das linhas cujas colunas apresentaram 1 único valor NaN observado no script TCC_I:\n",
    "Colunas 'Q001', 'Q002', 'Q003', 'Q004', 'Q005', 'Q006', 'Q007', 'Q008', 'Q009', 'Q010', 'Q011', 'Q012', 'Q013',\n",
    "'Q014', 'Q015', 'Q016', 'Q017', 'Q018', 'Q019', 'Q020', 'Q021', 'Q022', 'Q023', 'Q024', 'Q025'."
   ]
  },
  {
   "cell_type": "code",
   "execution_count": 12,
   "id": "793ee911",
   "metadata": {},
   "outputs": [],
   "source": [
    "colunas_tratamento = ['Q001', 'Q002', 'Q003', 'Q004', 'Q005', 'Q006', 'Q007', 'Q008', \n",
    "                      'Q009', 'Q010', 'Q011', 'Q012', 'Q013', 'Q014', 'Q015', 'Q016', \n",
    "                      'Q017', 'Q018', 'Q019', 'Q020', 'Q021', 'Q022', 'Q023', 'Q024', 'Q025']"
   ]
  },
  {
   "cell_type": "code",
   "execution_count": 33,
   "id": "aa894d70",
   "metadata": {},
   "outputs": [],
   "source": [
    "x = dados.loc[dados['Q001'].isna(), 'Q001']"
   ]
  },
  {
   "cell_type": "code",
   "execution_count": 40,
   "id": "e8bb02e8",
   "metadata": {},
   "outputs": [],
   "source": [
    "indice = x.index"
   ]
  },
  {
   "cell_type": "code",
   "execution_count": 48,
   "id": "0768066b",
   "metadata": {},
   "outputs": [
    {
     "data": {
      "text/plain": [
       "707314"
      ]
     },
     "execution_count": 48,
     "metadata": {},
     "output_type": "execute_result"
    }
   ],
   "source": [
    "indice[0]"
   ]
  },
  {
   "cell_type": "code",
   "execution_count": 50,
   "id": "757fadf1",
   "metadata": {},
   "outputs": [
    {
     "name": "stdout",
     "output_type": "stream",
     "text": [
      "707314\n",
      "707314\n",
      "707314\n",
      "707314\n",
      "707314\n",
      "707314\n",
      "707314\n",
      "707314\n",
      "707314\n",
      "707314\n",
      "707314\n",
      "707314\n",
      "707314\n",
      "707314\n",
      "707314\n",
      "707314\n",
      "707314\n",
      "707314\n",
      "707314\n",
      "707314\n",
      "707314\n",
      "707314\n",
      "707314\n",
      "707314\n",
      "707314\n"
     ]
    }
   ],
   "source": [
    "for coluna in colunas_tratamento:\n",
    "    indice = dados.loc[dados[coluna].isna(), coluna].index[0]\n",
    "    print(indice)"
   ]
  },
  {
   "cell_type": "code",
   "execution_count": 51,
   "id": "11c5d0e1",
   "metadata": {},
   "outputs": [
    {
     "data": {
      "text/plain": [
       "Q001    NaN\n",
       "Q002    NaN\n",
       "Q003    NaN\n",
       "Q004    NaN\n",
       "Q005    NaN\n",
       "Q006    NaN\n",
       "Q007    NaN\n",
       "Q008    NaN\n",
       "Q009    NaN\n",
       "Q010    NaN\n",
       "Q011    NaN\n",
       "Q012    NaN\n",
       "Q013    NaN\n",
       "Q014    NaN\n",
       "Q015    NaN\n",
       "Q016    NaN\n",
       "Q017    NaN\n",
       "Q018    NaN\n",
       "Q019    NaN\n",
       "Q020    NaN\n",
       "Q021    NaN\n",
       "Q022    NaN\n",
       "Q023    NaN\n",
       "Q024    NaN\n",
       "Q025    NaN\n",
       "Name: 707314, dtype: object"
      ]
     },
     "execution_count": 51,
     "metadata": {},
     "output_type": "execute_result"
    }
   ],
   "source": [
    "dados.loc[indice, colunas_tratamento]"
   ]
  },
  {
   "cell_type": "code",
   "execution_count": 52,
   "id": "f528178f",
   "metadata": {},
   "outputs": [],
   "source": [
    "# Tratamento desta linha 707314 em particular:\n",
    "# Eliminação de linha com valores NaN - 'Q001', 'Q002', 'Q003', 'Q004', 'Q005', 'Q006', 'Q024', 'Q025'\n",
    "dados = dados.drop(indice, axis = 0)"
   ]
  },
  {
   "cell_type": "code",
   "execution_count": 53,
   "id": "4b3d445f",
   "metadata": {},
   "outputs": [],
   "source": [
    "dados = dados.reset_index()"
   ]
  },
  {
   "cell_type": "code",
   "execution_count": 54,
   "id": "ff9d9705",
   "metadata": {},
   "outputs": [
    {
     "name": "stdout",
     "output_type": "stream",
     "text": [
      "<class 'pandas.core.frame.DataFrame'>\n",
      "RangeIndex: 2685052 entries, 0 to 2685051\n",
      "Data columns (total 78 columns):\n",
      " #   Column                  Dtype  \n",
      "---  ------                  -----  \n",
      " 0   index                   int64  \n",
      " 1   NU_INSCRICAO            int64  \n",
      " 2   NU_ANO                  int64  \n",
      " 3   TP_FAIXA_ETARIA         int64  \n",
      " 4   TP_SEXO                 object \n",
      " 5   TP_ESTADO_CIVIL         int64  \n",
      " 6   TP_COR_RACA             int64  \n",
      " 7   TP_NACIONALIDADE        int64  \n",
      " 8   TP_ST_CONCLUSAO         int64  \n",
      " 9   TP_ANO_CONCLUIU         int64  \n",
      " 10  TP_ESCOLA               int64  \n",
      " 11  TP_ENSINO               float64\n",
      " 12  IN_TREINEIRO            int64  \n",
      " 13  CO_MUNICIPIO_ESC        float64\n",
      " 14  NO_MUNICIPIO_ESC        object \n",
      " 15  CO_UF_ESC               float64\n",
      " 16  SG_UF_ESC               object \n",
      " 17  TP_DEPENDENCIA_ADM_ESC  float64\n",
      " 18  TP_LOCALIZACAO_ESC      float64\n",
      " 19  TP_SIT_FUNC_ESC         float64\n",
      " 20  CO_MUNICIPIO_PROVA      int64  \n",
      " 21  NO_MUNICIPIO_PROVA      object \n",
      " 22  CO_UF_PROVA             int64  \n",
      " 23  SG_UF_PROVA             object \n",
      " 24  TP_PRESENCA_CN          int64  \n",
      " 25  TP_PRESENCA_CH          int64  \n",
      " 26  TP_PRESENCA_LC          int64  \n",
      " 27  TP_PRESENCA_MT          int64  \n",
      " 28  CO_PROVA_CN             float64\n",
      " 29  CO_PROVA_CH             float64\n",
      " 30  CO_PROVA_LC             float64\n",
      " 31  CO_PROVA_MT             float64\n",
      " 32  NU_NOTA_CN              float64\n",
      " 33  NU_NOTA_CH              float64\n",
      " 34  NU_NOTA_LC              float64\n",
      " 35  NU_NOTA_MT              float64\n",
      " 36  TX_RESPOSTAS_CN         object \n",
      " 37  TX_RESPOSTAS_CH         object \n",
      " 38  TX_RESPOSTAS_LC         object \n",
      " 39  TX_RESPOSTAS_MT         object \n",
      " 40  TP_LINGUA               int64  \n",
      " 41  TX_GABARITO_CN          object \n",
      " 42  TX_GABARITO_CH          object \n",
      " 43  TX_GABARITO_LC          object \n",
      " 44  TX_GABARITO_MT          object \n",
      " 45  TP_STATUS_REDACAO       float64\n",
      " 46  NU_NOTA_COMP1           float64\n",
      " 47  NU_NOTA_COMP2           float64\n",
      " 48  NU_NOTA_COMP3           float64\n",
      " 49  NU_NOTA_COMP4           float64\n",
      " 50  NU_NOTA_COMP5           float64\n",
      " 51  NU_NOTA_REDACAO         float64\n",
      " 52  Q001                    object \n",
      " 53  Q002                    object \n",
      " 54  Q003                    object \n",
      " 55  Q004                    object \n",
      " 56  Q005                    float64\n",
      " 57  Q006                    object \n",
      " 58  Q007                    object \n",
      " 59  Q008                    object \n",
      " 60  Q009                    object \n",
      " 61  Q010                    object \n",
      " 62  Q011                    object \n",
      " 63  Q012                    object \n",
      " 64  Q013                    object \n",
      " 65  Q014                    object \n",
      " 66  Q015                    object \n",
      " 67  Q016                    object \n",
      " 68  Q017                    object \n",
      " 69  Q018                    object \n",
      " 70  Q019                    object \n",
      " 71  Q020                    object \n",
      " 72  Q021                    object \n",
      " 73  Q022                    object \n",
      " 74  Q023                    object \n",
      " 75  Q024                    object \n",
      " 76  Q025                    object \n",
      " 77  MEDIA_ENEM              float64\n",
      "dtypes: float64(23), int64(18), object(37)\n",
      "memory usage: 1.6+ GB\n"
     ]
    }
   ],
   "source": [
    "dados.info()"
   ]
  },
  {
   "cell_type": "code",
   "execution_count": null,
   "id": "44fe6271",
   "metadata": {},
   "outputs": [],
   "source": [
    "# Converter para int as colunas 'TP_STATUS_REDACAO' e 'Q005'.\n",
    "# Primeiramente devem ser preenchidos com 0 onde está vazio.\n",
    "# Atribuir 0 as células de notas vazias."
   ]
  },
  {
   "cell_type": "code",
   "execution_count": null,
   "id": "9060a6fd",
   "metadata": {},
   "outputs": [],
   "source": [
    "# Único valor vazio da coluna 'Q005' foi eliminado com o drop da linha 707314 acima.\n",
    "dados['Q005'] = dados['Q005'].astype(np.int64)"
   ]
  },
  {
   "cell_type": "code",
   "execution_count": null,
   "id": "b4e73ed8",
   "metadata": {},
   "outputs": [],
   "source": [
    "# Preenchimento dos valores vazios desta coluna com o valor 4, conforme critério adotado por nossa equipe:\n",
    "dados['TP_STATUS_REDACAO'] = dados['TP_STATUS_REDACAO'].fillna(4)"
   ]
  },
  {
   "cell_type": "code",
   "execution_count": null,
   "id": "7da11059",
   "metadata": {},
   "outputs": [],
   "source": [
    "# Conversão para int64 de todos os valores da coluna 'TP_STATUS_REDACAO':\n",
    "dados['TP_STATUS_REDACAO'] = dados['TP_STATUS_REDACAO'].astype(np.int64)"
   ]
  },
  {
   "cell_type": "code",
   "execution_count": null,
   "id": "b475163d",
   "metadata": {},
   "outputs": [],
   "source": [
    "# Atribuir zero para as notas NaN nas colunas 'NU_NOTA_CN', 'NU_NOTA_CH', 'NU_NOTA_LC', 'NU_NOTA_MT', 'NU_NOTA_REDACAO'.\n",
    "cols = ['NU_NOTA_CN', 'NU_NOTA_CH', 'NU_NOTA_LC', 'NU_NOTA_MT', 'NU_NOTA_REDACAO']\n",
    "for coluna in cols:\n",
    "    dados[coluna] = dados[coluna].fillna(0)"
   ]
  },
  {
   "cell_type": "code",
   "execution_count": null,
   "id": "2b7faa5d",
   "metadata": {},
   "outputs": [],
   "source": [
    "dados.info()"
   ]
  },
  {
   "cell_type": "code",
   "execution_count": null,
   "id": "076ad883",
   "metadata": {},
   "outputs": [],
   "source": [
    "# Aqui não podem aparecer valores vazios (NaN):\n",
    "dados[cols].head(20)"
   ]
  },
  {
   "cell_type": "code",
   "execution_count": null,
   "id": "0ac5b735",
   "metadata": {},
   "outputs": [],
   "source": [
    "import time\n",
    "\n",
    "tempo_inicial = time.time()\n",
    "\n",
    "for i in range(len(dados)):\n",
    "    soma_notas = 0\n",
    "    for coluna in cols:\n",
    "        soma_notas = soma_notas + dados[coluna][i]\n",
    "    media_linha = soma_notas/len(cols)\n",
    "    dados['MEDIA_ENEM'][i] = media_linha\n",
    "\n",
    "tempo_final = time.time()\n",
    "duracao = tempo_final - tempo_inicial\n",
    "print(f'O processamento durou {(duracao)} segundos.')"
   ]
  },
  {
   "cell_type": "code",
   "execution_count": null,
   "id": "b3d6775f",
   "metadata": {},
   "outputs": [],
   "source": [
    "# Definição das colunas de interesse:\n",
    "\n",
    "colunas = ['TP_FAIXA_ETARIA', \n",
    "           'TP_SEXO',\n",
    "           'TP_ESTADO_CIVIL', \n",
    "           'TP_COR_RACA', \n",
    "           'TP_NACIONALIDADE', \n",
    "           'TP_ST_CONCLUSAO', \n",
    "           'TP_ESCOLA',\n",
    "           'IN_TREINEIRO',\n",
    "           'NO_MUNICIPIO_PROVA',\n",
    "           'SG_UF_PROVA',\n",
    "           'TP_PRESENCA_CN', \n",
    "           'TP_PRESENCA_CH', \n",
    "           'TP_PRESENCA_LC',\n",
    "           'TP_PRESENCA_MT',\n",
    "           'NU_NOTA_CN', \n",
    "           'NU_NOTA_CH', \n",
    "           'NU_NOTA_LC', \n",
    "           'NU_NOTA_MT',\n",
    "           'TP_STATUS_REDACAO',\n",
    "           'NU_NOTA_REDACAO', \n",
    "           'Q001', \n",
    "           'Q002', \n",
    "           'Q003', \n",
    "           'Q004',\n",
    "           'Q005', \n",
    "           'Q006', \n",
    "           'Q024', \n",
    "           'Q025',\n",
    "           'MEDIA_ENEM'\n",
    "          ]"
   ]
  },
  {
   "cell_type": "code",
   "execution_count": null,
   "id": "a32ffe9c",
   "metadata": {
    "scrolled": false
   },
   "outputs": [],
   "source": [
    "dados_2 = dados[colunas]"
   ]
  },
  {
   "cell_type": "code",
   "execution_count": null,
   "id": "6b4c2fb9",
   "metadata": {},
   "outputs": [],
   "source": [
    "# index = False não permite a criação de coluna com os índices, que gera coluna 'Unnamed: 0' nos novos DFs derivados.\n",
    "dados_2.to_csv('Dados_Enem_2021.csv', sep=',', index = False)"
   ]
  },
  {
   "cell_type": "code",
   "execution_count": null,
   "id": "927cdb08",
   "metadata": {},
   "outputs": [],
   "source": [
    "dados_2 = pd.read_csv('Dados_Enem_2021.csv', sep=',')"
   ]
  },
  {
   "cell_type": "code",
   "execution_count": null,
   "id": "834d8228",
   "metadata": {
    "scrolled": true
   },
   "outputs": [],
   "source": [
    "dados_2.head(10)"
   ]
  },
  {
   "cell_type": "code",
   "execution_count": null,
   "id": "297b6d76",
   "metadata": {},
   "outputs": [],
   "source": [
    "cols_notas = ['NU_NOTA_CN', \n",
    "              'NU_NOTA_CH', \n",
    "              'NU_NOTA_LC', \n",
    "              'NU_NOTA_MT',        \n",
    "              'NU_NOTA_REDACAO', \n",
    "              'MEDIA_ENEM']"
   ]
  },
  {
   "cell_type": "code",
   "execution_count": null,
   "id": "cecedabe",
   "metadata": {},
   "outputs": [],
   "source": [
    "dados[cols_notas].head(10)"
   ]
  }
 ],
 "metadata": {
  "kernelspec": {
   "display_name": "Python 3.10.6 64-bit",
   "language": "python",
   "name": "python3"
  },
  "language_info": {
   "codemirror_mode": {
    "name": "ipython",
    "version": 3
   },
   "file_extension": ".py",
   "mimetype": "text/x-python",
   "name": "python",
   "nbconvert_exporter": "python",
   "pygments_lexer": "ipython3",
   "version": "3.10.6"
  },
  "vscode": {
   "interpreter": {
    "hash": "afb734500600fd355917ca529030176ea0ca205570884b88f2f6f7d791fd3fbe"
   }
  }
 },
 "nbformat": 4,
 "nbformat_minor": 5
}
