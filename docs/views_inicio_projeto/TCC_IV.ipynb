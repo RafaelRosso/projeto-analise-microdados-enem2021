{
 "cells": [
  {
   "cell_type": "markdown",
   "id": "396fc227",
   "metadata": {},
   "source": [
    "<h4 align=\"center\">Projeto Análise Microdados Enem 2021</h4>\n",
    "\n",
    " - Diogo Lindemann\n",
    " - Francisco de Assis\n",
    " - Luana Naiara\n",
    " - Marcelo Takahashi\n",
    " - Rafael Rosso\n",
    " - Sylvio Carneiro\n",
    "\n",
    "1- Análise de valores vazios de cada coluna\n",
    "\n"
   ]
  },
  {
   "cell_type": "markdown",
   "id": "1d2ba541",
   "metadata": {},
   "source": [
    "#### Este script faz uma primeira análise estatística das colunas que têm valores vazios (NaN), emitindo um relatório destas colunas. Colunas não exibidas não possuem valores vazios."
   ]
  },
  {
   "cell_type": "code",
   "execution_count": 23,
   "id": "0ce88704",
   "metadata": {},
   "outputs": [],
   "source": [
    "import pandas as pd\n",
    "import numpy as np\n",
    "from datetime import datetime"
   ]
  },
  {
   "cell_type": "code",
   "execution_count": 13,
   "id": "45e607df",
   "metadata": {},
   "outputs": [],
   "source": [
    "url_or_file = 'Dados_Enem_2021.csv'"
   ]
  },
  {
   "cell_type": "code",
   "execution_count": 14,
   "id": "54f6d94c",
   "metadata": {},
   "outputs": [],
   "source": [
    "dados = pd.read_csv(url_or_file, sep = ',', encoding = 'utf-8')"
   ]
  },
  {
   "cell_type": "code",
   "execution_count": 15,
   "id": "08213970",
   "metadata": {},
   "outputs": [
    {
     "data": {
      "text/html": [
       "<div>\n",
       "<style scoped>\n",
       "    .dataframe tbody tr th:only-of-type {\n",
       "        vertical-align: middle;\n",
       "    }\n",
       "\n",
       "    .dataframe tbody tr th {\n",
       "        vertical-align: top;\n",
       "    }\n",
       "\n",
       "    .dataframe thead th {\n",
       "        text-align: right;\n",
       "    }\n",
       "</style>\n",
       "<table border=\"1\" class=\"dataframe\">\n",
       "  <thead>\n",
       "    <tr style=\"text-align: right;\">\n",
       "      <th></th>\n",
       "      <th>TP_FAIXA_ETARIA</th>\n",
       "      <th>TP_SEXO</th>\n",
       "      <th>TP_ESTADO_CIVIL</th>\n",
       "      <th>TP_COR_RACA</th>\n",
       "      <th>TP_NACIONALIDADE</th>\n",
       "      <th>TP_ST_CONCLUSAO</th>\n",
       "      <th>TP_ESCOLA</th>\n",
       "      <th>IN_TREINEIRO</th>\n",
       "      <th>NO_MUNICIPIO_PROVA</th>\n",
       "      <th>SG_UF_PROVA</th>\n",
       "      <th>...</th>\n",
       "      <th>NU_NOTA_REDACAO</th>\n",
       "      <th>Q001</th>\n",
       "      <th>Q002</th>\n",
       "      <th>Q003</th>\n",
       "      <th>Q004</th>\n",
       "      <th>Q005</th>\n",
       "      <th>Q006</th>\n",
       "      <th>Q024</th>\n",
       "      <th>Q025</th>\n",
       "      <th>MEDIA_ENEM</th>\n",
       "    </tr>\n",
       "  </thead>\n",
       "  <tbody>\n",
       "    <tr>\n",
       "      <th>0</th>\n",
       "      <td>5</td>\n",
       "      <td>F</td>\n",
       "      <td>1</td>\n",
       "      <td>1</td>\n",
       "      <td>1</td>\n",
       "      <td>1</td>\n",
       "      <td>1</td>\n",
       "      <td>0</td>\n",
       "      <td>Nova Lima</td>\n",
       "      <td>MG</td>\n",
       "      <td>...</td>\n",
       "      <td>760.0</td>\n",
       "      <td>F</td>\n",
       "      <td>F</td>\n",
       "      <td>B</td>\n",
       "      <td>B</td>\n",
       "      <td>3</td>\n",
       "      <td>D</td>\n",
       "      <td>B</td>\n",
       "      <td>B</td>\n",
       "      <td>361.44</td>\n",
       "    </tr>\n",
       "    <tr>\n",
       "      <th>1</th>\n",
       "      <td>12</td>\n",
       "      <td>M</td>\n",
       "      <td>1</td>\n",
       "      <td>1</td>\n",
       "      <td>1</td>\n",
       "      <td>1</td>\n",
       "      <td>1</td>\n",
       "      <td>0</td>\n",
       "      <td>Maceió</td>\n",
       "      <td>AL</td>\n",
       "      <td>...</td>\n",
       "      <td>560.0</td>\n",
       "      <td>B</td>\n",
       "      <td>B</td>\n",
       "      <td>B</td>\n",
       "      <td>B</td>\n",
       "      <td>3</td>\n",
       "      <td>B</td>\n",
       "      <td>A</td>\n",
       "      <td>A</td>\n",
       "      <td>515.50</td>\n",
       "    </tr>\n",
       "    <tr>\n",
       "      <th>2</th>\n",
       "      <td>13</td>\n",
       "      <td>F</td>\n",
       "      <td>3</td>\n",
       "      <td>1</td>\n",
       "      <td>1</td>\n",
       "      <td>1</td>\n",
       "      <td>1</td>\n",
       "      <td>0</td>\n",
       "      <td>Ferraz de Vasconcelos</td>\n",
       "      <td>SP</td>\n",
       "      <td>...</td>\n",
       "      <td>0.0</td>\n",
       "      <td>B</td>\n",
       "      <td>C</td>\n",
       "      <td>C</td>\n",
       "      <td>B</td>\n",
       "      <td>3</td>\n",
       "      <td>C</td>\n",
       "      <td>B</td>\n",
       "      <td>B</td>\n",
       "      <td>0.00</td>\n",
       "    </tr>\n",
       "    <tr>\n",
       "      <th>3</th>\n",
       "      <td>3</td>\n",
       "      <td>M</td>\n",
       "      <td>1</td>\n",
       "      <td>3</td>\n",
       "      <td>1</td>\n",
       "      <td>2</td>\n",
       "      <td>2</td>\n",
       "      <td>0</td>\n",
       "      <td>Crato</td>\n",
       "      <td>CE</td>\n",
       "      <td>...</td>\n",
       "      <td>780.0</td>\n",
       "      <td>B</td>\n",
       "      <td>B</td>\n",
       "      <td>B</td>\n",
       "      <td>B</td>\n",
       "      <td>6</td>\n",
       "      <td>B</td>\n",
       "      <td>B</td>\n",
       "      <td>B</td>\n",
       "      <td>667.60</td>\n",
       "    </tr>\n",
       "    <tr>\n",
       "      <th>4</th>\n",
       "      <td>2</td>\n",
       "      <td>F</td>\n",
       "      <td>1</td>\n",
       "      <td>3</td>\n",
       "      <td>1</td>\n",
       "      <td>2</td>\n",
       "      <td>2</td>\n",
       "      <td>0</td>\n",
       "      <td>Acarape</td>\n",
       "      <td>CE</td>\n",
       "      <td>...</td>\n",
       "      <td>780.0</td>\n",
       "      <td>D</td>\n",
       "      <td>E</td>\n",
       "      <td>F</td>\n",
       "      <td>D</td>\n",
       "      <td>4</td>\n",
       "      <td>C</td>\n",
       "      <td>B</td>\n",
       "      <td>B</td>\n",
       "      <td>570.06</td>\n",
       "    </tr>\n",
       "  </tbody>\n",
       "</table>\n",
       "<p>5 rows × 29 columns</p>\n",
       "</div>"
      ],
      "text/plain": [
       "   TP_FAIXA_ETARIA TP_SEXO  TP_ESTADO_CIVIL  TP_COR_RACA  TP_NACIONALIDADE  \\\n",
       "0                5       F                1            1                 1   \n",
       "1               12       M                1            1                 1   \n",
       "2               13       F                3            1                 1   \n",
       "3                3       M                1            3                 1   \n",
       "4                2       F                1            3                 1   \n",
       "\n",
       "   TP_ST_CONCLUSAO  TP_ESCOLA  IN_TREINEIRO     NO_MUNICIPIO_PROVA  \\\n",
       "0                1          1             0              Nova Lima   \n",
       "1                1          1             0                 Maceió   \n",
       "2                1          1             0  Ferraz de Vasconcelos   \n",
       "3                2          2             0                  Crato   \n",
       "4                2          2             0                Acarape   \n",
       "\n",
       "  SG_UF_PROVA  ...  NU_NOTA_REDACAO  Q001  Q002  Q003  Q004  Q005  Q006  Q024  \\\n",
       "0          MG  ...            760.0     F     F     B     B     3     D     B   \n",
       "1          AL  ...            560.0     B     B     B     B     3     B     A   \n",
       "2          SP  ...              0.0     B     C     C     B     3     C     B   \n",
       "3          CE  ...            780.0     B     B     B     B     6     B     B   \n",
       "4          CE  ...            780.0     D     E     F     D     4     C     B   \n",
       "\n",
       "   Q025  MEDIA_ENEM  \n",
       "0     B      361.44  \n",
       "1     A      515.50  \n",
       "2     B        0.00  \n",
       "3     B      667.60  \n",
       "4     B      570.06  \n",
       "\n",
       "[5 rows x 29 columns]"
      ]
     },
     "execution_count": 15,
     "metadata": {},
     "output_type": "execute_result"
    }
   ],
   "source": [
    "dados.head()"
   ]
  },
  {
   "cell_type": "code",
   "execution_count": 16,
   "id": "0afa6a29",
   "metadata": {},
   "outputs": [
    {
     "name": "stdout",
     "output_type": "stream",
     "text": [
      "<class 'pandas.core.frame.DataFrame'>\n",
      "RangeIndex: 2685052 entries, 0 to 2685051\n",
      "Data columns (total 29 columns):\n",
      " #   Column              Dtype  \n",
      "---  ------              -----  \n",
      " 0   TP_FAIXA_ETARIA     int64  \n",
      " 1   TP_SEXO             object \n",
      " 2   TP_ESTADO_CIVIL     int64  \n",
      " 3   TP_COR_RACA         int64  \n",
      " 4   TP_NACIONALIDADE    int64  \n",
      " 5   TP_ST_CONCLUSAO     int64  \n",
      " 6   TP_ESCOLA           int64  \n",
      " 7   IN_TREINEIRO        int64  \n",
      " 8   NO_MUNICIPIO_PROVA  object \n",
      " 9   SG_UF_PROVA         object \n",
      " 10  TP_PRESENCA_CN      int64  \n",
      " 11  TP_PRESENCA_CH      int64  \n",
      " 12  TP_PRESENCA_LC      int64  \n",
      " 13  TP_PRESENCA_MT      int64  \n",
      " 14  NU_NOTA_CN          float64\n",
      " 15  NU_NOTA_CH          float64\n",
      " 16  NU_NOTA_LC          float64\n",
      " 17  NU_NOTA_MT          float64\n",
      " 18  TP_STATUS_REDACAO   int64  \n",
      " 19  NU_NOTA_REDACAO     float64\n",
      " 20  Q001                object \n",
      " 21  Q002                object \n",
      " 22  Q003                object \n",
      " 23  Q004                object \n",
      " 24  Q005                int64  \n",
      " 25  Q006                object \n",
      " 26  Q024                object \n",
      " 27  Q025                object \n",
      " 28  MEDIA_ENEM          float64\n",
      "dtypes: float64(6), int64(13), object(10)\n",
      "memory usage: 594.1+ MB\n"
     ]
    }
   ],
   "source": [
    "dados.info()"
   ]
  },
  {
   "cell_type": "code",
   "execution_count": 17,
   "id": "69aeaab3",
   "metadata": {},
   "outputs": [
    {
     "name": "stdout",
     "output_type": "stream",
     "text": [
      "Total de linhas da base original: 2,685,052\n"
     ]
    }
   ],
   "source": [
    "total_linhas_df = len(dados)\n",
    "print(f'Total de linhas da base original: {(total_linhas_df):,.0f}')"
   ]
  },
  {
   "cell_type": "markdown",
   "id": "da42c8ba",
   "metadata": {},
   "source": [
    "### 1- Análise de valores vazios de cada coluna."
   ]
  },
  {
   "cell_type": "code",
   "execution_count": 18,
   "id": "a90c4d73",
   "metadata": {},
   "outputs": [],
   "source": [
    "def analisar_nan(coluna):\n",
    "    #return(dados.loc[dados[coluna].isna(), coluna])\n",
    "    df = dados.loc[dados[coluna].isna(), coluna]\n",
    "    return(len(df))"
   ]
  },
  {
   "cell_type": "code",
   "execution_count": 19,
   "id": "d83e344d",
   "metadata": {},
   "outputs": [
    {
     "data": {
      "text/plain": [
       "Index(['TP_FAIXA_ETARIA', 'TP_SEXO', 'TP_ESTADO_CIVIL', 'TP_COR_RACA',\n",
       "       'TP_NACIONALIDADE', 'TP_ST_CONCLUSAO', 'TP_ESCOLA', 'IN_TREINEIRO',\n",
       "       'NO_MUNICIPIO_PROVA', 'SG_UF_PROVA', 'TP_PRESENCA_CN', 'TP_PRESENCA_CH',\n",
       "       'TP_PRESENCA_LC', 'TP_PRESENCA_MT', 'NU_NOTA_CN', 'NU_NOTA_CH',\n",
       "       'NU_NOTA_LC', 'NU_NOTA_MT', 'TP_STATUS_REDACAO', 'NU_NOTA_REDACAO',\n",
       "       'Q001', 'Q002', 'Q003', 'Q004', 'Q005', 'Q006', 'Q024', 'Q025',\n",
       "       'MEDIA_ENEM'],\n",
       "      dtype='object')"
      ]
     },
     "execution_count": 19,
     "metadata": {},
     "output_type": "execute_result"
    }
   ],
   "source": [
    "dados.columns"
   ]
  },
  {
   "cell_type": "code",
   "execution_count": 20,
   "id": "19fe675c",
   "metadata": {},
   "outputs": [],
   "source": [
    "cols = [\n",
    "        'TP_FAIXA_ETARIA', \n",
    "        'TP_SEXO',\n",
    "        'TP_ESTADO_CIVIL', \n",
    "        'TP_COR_RACA', \n",
    "        'TP_NACIONALIDADE', \n",
    "        'TP_ST_CONCLUSAO', \n",
    "        'TP_ESCOLA',\n",
    "        'IN_TREINEIRO',\n",
    "        'NO_MUNICIPIO_PROVA',\n",
    "        'SG_UF_PROVA',\n",
    "        'TP_PRESENCA_CN', \n",
    "        'TP_PRESENCA_CH', \n",
    "        'TP_PRESENCA_LC',\n",
    "        'TP_PRESENCA_MT',\n",
    "        'NU_NOTA_CN', \n",
    "        'NU_NOTA_CH', \n",
    "        'NU_NOTA_LC', \n",
    "        'NU_NOTA_MT',\n",
    "        'TP_STATUS_REDACAO',\n",
    "        'NU_NOTA_REDACAO', \n",
    "        'Q001', \n",
    "        'Q002', \n",
    "        'Q003', \n",
    "        'Q004',\n",
    "        'Q005', \n",
    "        'Q006', \n",
    "        'Q024', \n",
    "        'Q025'\n",
    "        ]"
   ]
  },
  {
   "cell_type": "code",
   "execution_count": 25,
   "id": "beaed23a",
   "metadata": {},
   "outputs": [
    {
     "name": "stdout",
     "output_type": "stream",
     "text": [
      "Foram encontradas 0 colunas com valores vazios.\n",
      "17/08/2022 16:09:04\n"
     ]
    }
   ],
   "source": [
    "cont = 0\n",
    "for coluna in cols:\n",
    "    nan = analisar_nan(coluna)\n",
    "    if nan != 0:\n",
    "        cont += 1\n",
    "        print(f'Coluna {coluna} tem {(nan):,.0f} valores vazios {(nan / total_linhas_df):.2%}.\\n')\n",
    "print(f'Foram encontradas {cont} colunas com valores vazios.')\n",
    "\n",
    "data_e_hora_atuais = datetime.now()\n",
    "data_e_hora_em_texto = data_e_hora_atuais.strftime(\"%d/%m/%Y %H:%M:%S\")\n",
    "print(data_e_hora_em_texto)"
   ]
  },
  {
   "cell_type": "code",
   "execution_count": null,
   "id": "b470bb3b",
   "metadata": {},
   "outputs": [],
   "source": []
  }
 ],
 "metadata": {
  "kernelspec": {
   "display_name": "Python 3.10.6 64-bit",
   "language": "python",
   "name": "python3"
  },
  "language_info": {
   "codemirror_mode": {
    "name": "ipython",
    "version": 3
   },
   "file_extension": ".py",
   "mimetype": "text/x-python",
   "name": "python",
   "nbconvert_exporter": "python",
   "pygments_lexer": "ipython3",
   "version": "3.10.6"
  },
  "vscode": {
   "interpreter": {
    "hash": "afb734500600fd355917ca529030176ea0ca205570884b88f2f6f7d791fd3fbe"
   }
  }
 },
 "nbformat": 4,
 "nbformat_minor": 5
}
