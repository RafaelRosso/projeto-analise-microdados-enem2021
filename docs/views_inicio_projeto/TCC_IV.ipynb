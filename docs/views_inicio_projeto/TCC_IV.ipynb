{
 "cells": [
  {
   "cell_type": "markdown",
   "id": "274203ec",
   "metadata": {},
   "source": [
    "### 12/08/2022 - Análise Microdados Enem 2021\n",
    " - Diogo Lindemann\n",
    " - Luana Naiara\n",
    " - Marcelo Takahashi\n",
    " - Rafael Rosso\n",
    " - Sylvio Carneiro\n",
    " \n",
    " ### 1 - Análise estatística das colunas com Valores vazios (NAN)\n",
    " ### 2 - Análise dos valores vazios de cada coluna"
   ]
  },
  {
   "cell_type": "markdown",
   "id": "1d2ba541",
   "metadata": {
    "id": "1d2ba541"
   },
   "source": [
    "\n",
    "## 1 - Este script faz uma primeira análise estatística das colunas que têm valores vazios (NaN), emitindo um relatório destas colunas. Colunas não exibidas não possuem valores vazios.\n"
   ]
  },
  {
   "cell_type": "code",
   "execution_count": null,
   "id": "0ce88704",
   "metadata": {
    "id": "0ce88704"
   },
   "outputs": [],
   "source": [
    "import pandas as pd\n",
    "import numpy as np"
   ]
  },
  {
   "cell_type": "code",
   "execution_count": null,
   "id": "45e607df",
   "metadata": {
    "id": "45e607df"
   },
   "outputs": [],
   "source": [
    "url_or_file = r'C:\\Users\\sylvi\\01_Programação e TI - geral\\10_Entra 21\\Projeto TCC - Microdados Enem 2021\\microdados_enem_2021\\DADOS\\Dados_Enem_2021.csv'"
   ]
  },
  {
   "cell_type": "code",
   "execution_count": null,
   "id": "54f6d94c",
   "metadata": {
    "id": "54f6d94c"
   },
   "outputs": [],
   "source": [
    "dados = pd.read_csv(url_or_file, sep = ',', encoding = 'utf-8')"
   ]
  },
  {
   "cell_type": "code",
   "execution_count": null,
   "id": "08213970",
   "metadata": {
    "id": "08213970",
    "outputId": "d4391b54-ee30-4f2e-aa8d-df026fbafe82"
   },
   "outputs": [
    {
     "data": {
      "text/html": [
       "<div>\n",
       "<style scoped>\n",
       "    .dataframe tbody tr th:only-of-type {\n",
       "        vertical-align: middle;\n",
       "    }\n",
       "\n",
       "    .dataframe tbody tr th {\n",
       "        vertical-align: top;\n",
       "    }\n",
       "\n",
       "    .dataframe thead th {\n",
       "        text-align: right;\n",
       "    }\n",
       "</style>\n",
       "<table border=\"1\" class=\"dataframe\">\n",
       "  <thead>\n",
       "    <tr style=\"text-align: right;\">\n",
       "      <th></th>\n",
       "      <th>TP_FAIXA_ETARIA</th>\n",
       "      <th>TP_SEXO</th>\n",
       "      <th>TP_ESTADO_CIVIL</th>\n",
       "      <th>TP_COR_RACA</th>\n",
       "      <th>TP_NACIONALIDADE</th>\n",
       "      <th>TP_ST_CONCLUSAO</th>\n",
       "      <th>TP_ESCOLA</th>\n",
       "      <th>IN_TREINEIRO</th>\n",
       "      <th>NO_MUNICIPIO_PROVA</th>\n",
       "      <th>SG_UF_PROVA</th>\n",
       "      <th>...</th>\n",
       "      <th>TP_STATUS_REDACAO</th>\n",
       "      <th>NU_NOTA_REDACAO</th>\n",
       "      <th>Q001</th>\n",
       "      <th>Q002</th>\n",
       "      <th>Q003</th>\n",
       "      <th>Q004</th>\n",
       "      <th>Q005</th>\n",
       "      <th>Q006</th>\n",
       "      <th>Q024</th>\n",
       "      <th>Q025</th>\n",
       "    </tr>\n",
       "  </thead>\n",
       "  <tbody>\n",
       "    <tr>\n",
       "      <th>0</th>\n",
       "      <td>5</td>\n",
       "      <td>F</td>\n",
       "      <td>1</td>\n",
       "      <td>1</td>\n",
       "      <td>1</td>\n",
       "      <td>1</td>\n",
       "      <td>1</td>\n",
       "      <td>0</td>\n",
       "      <td>Nova Lima</td>\n",
       "      <td>MG</td>\n",
       "      <td>...</td>\n",
       "      <td>1.0</td>\n",
       "      <td>760.0</td>\n",
       "      <td>F</td>\n",
       "      <td>F</td>\n",
       "      <td>B</td>\n",
       "      <td>B</td>\n",
       "      <td>3.0</td>\n",
       "      <td>D</td>\n",
       "      <td>B</td>\n",
       "      <td>B</td>\n",
       "    </tr>\n",
       "    <tr>\n",
       "      <th>1</th>\n",
       "      <td>12</td>\n",
       "      <td>M</td>\n",
       "      <td>1</td>\n",
       "      <td>1</td>\n",
       "      <td>1</td>\n",
       "      <td>1</td>\n",
       "      <td>1</td>\n",
       "      <td>0</td>\n",
       "      <td>Maceió</td>\n",
       "      <td>AL</td>\n",
       "      <td>...</td>\n",
       "      <td>1.0</td>\n",
       "      <td>560.0</td>\n",
       "      <td>B</td>\n",
       "      <td>B</td>\n",
       "      <td>B</td>\n",
       "      <td>B</td>\n",
       "      <td>3.0</td>\n",
       "      <td>B</td>\n",
       "      <td>A</td>\n",
       "      <td>A</td>\n",
       "    </tr>\n",
       "    <tr>\n",
       "      <th>2</th>\n",
       "      <td>13</td>\n",
       "      <td>F</td>\n",
       "      <td>3</td>\n",
       "      <td>1</td>\n",
       "      <td>1</td>\n",
       "      <td>1</td>\n",
       "      <td>1</td>\n",
       "      <td>0</td>\n",
       "      <td>Ferraz de Vasconcelos</td>\n",
       "      <td>SP</td>\n",
       "      <td>...</td>\n",
       "      <td>NaN</td>\n",
       "      <td>NaN</td>\n",
       "      <td>B</td>\n",
       "      <td>C</td>\n",
       "      <td>C</td>\n",
       "      <td>B</td>\n",
       "      <td>3.0</td>\n",
       "      <td>C</td>\n",
       "      <td>B</td>\n",
       "      <td>B</td>\n",
       "    </tr>\n",
       "    <tr>\n",
       "      <th>3</th>\n",
       "      <td>3</td>\n",
       "      <td>M</td>\n",
       "      <td>1</td>\n",
       "      <td>3</td>\n",
       "      <td>1</td>\n",
       "      <td>2</td>\n",
       "      <td>2</td>\n",
       "      <td>0</td>\n",
       "      <td>Crato</td>\n",
       "      <td>CE</td>\n",
       "      <td>...</td>\n",
       "      <td>1.0</td>\n",
       "      <td>780.0</td>\n",
       "      <td>B</td>\n",
       "      <td>B</td>\n",
       "      <td>B</td>\n",
       "      <td>B</td>\n",
       "      <td>6.0</td>\n",
       "      <td>B</td>\n",
       "      <td>B</td>\n",
       "      <td>B</td>\n",
       "    </tr>\n",
       "    <tr>\n",
       "      <th>4</th>\n",
       "      <td>2</td>\n",
       "      <td>F</td>\n",
       "      <td>1</td>\n",
       "      <td>3</td>\n",
       "      <td>1</td>\n",
       "      <td>2</td>\n",
       "      <td>2</td>\n",
       "      <td>0</td>\n",
       "      <td>Acarape</td>\n",
       "      <td>CE</td>\n",
       "      <td>...</td>\n",
       "      <td>1.0</td>\n",
       "      <td>780.0</td>\n",
       "      <td>D</td>\n",
       "      <td>E</td>\n",
       "      <td>F</td>\n",
       "      <td>D</td>\n",
       "      <td>4.0</td>\n",
       "      <td>C</td>\n",
       "      <td>B</td>\n",
       "      <td>B</td>\n",
       "    </tr>\n",
       "  </tbody>\n",
       "</table>\n",
       "<p>5 rows × 28 columns</p>\n",
       "</div>"
      ],
      "text/plain": [
       "   TP_FAIXA_ETARIA TP_SEXO  TP_ESTADO_CIVIL  TP_COR_RACA  TP_NACIONALIDADE  \\\n",
       "0                5       F                1            1                 1   \n",
       "1               12       M                1            1                 1   \n",
       "2               13       F                3            1                 1   \n",
       "3                3       M                1            3                 1   \n",
       "4                2       F                1            3                 1   \n",
       "\n",
       "   TP_ST_CONCLUSAO  TP_ESCOLA  IN_TREINEIRO     NO_MUNICIPIO_PROVA  \\\n",
       "0                1          1             0              Nova Lima   \n",
       "1                1          1             0                 Maceió   \n",
       "2                1          1             0  Ferraz de Vasconcelos   \n",
       "3                2          2             0                  Crato   \n",
       "4                2          2             0                Acarape   \n",
       "\n",
       "  SG_UF_PROVA  ...  TP_STATUS_REDACAO  NU_NOTA_REDACAO  Q001  Q002  Q003  \\\n",
       "0          MG  ...                1.0            760.0     F     F     B   \n",
       "1          AL  ...                1.0            560.0     B     B     B   \n",
       "2          SP  ...                NaN              NaN     B     C     C   \n",
       "3          CE  ...                1.0            780.0     B     B     B   \n",
       "4          CE  ...                1.0            780.0     D     E     F   \n",
       "\n",
       "   Q004  Q005  Q006  Q024  Q025  \n",
       "0     B   3.0     D     B     B  \n",
       "1     B   3.0     B     A     A  \n",
       "2     B   3.0     C     B     B  \n",
       "3     B   6.0     B     B     B  \n",
       "4     D   4.0     C     B     B  \n",
       "\n",
       "[5 rows x 28 columns]"
      ]
     },
     "execution_count": 44,
     "metadata": {},
     "output_type": "execute_result"
    }
   ],
   "source": [
    "dados.head()"
   ]
  },
  {
   "cell_type": "code",
   "execution_count": null,
   "id": "0afa6a29",
   "metadata": {
    "id": "0afa6a29",
    "outputId": "a8850426-bd09-4624-f962-c59352fc7d54"
   },
   "outputs": [
    {
     "name": "stdout",
     "output_type": "stream",
     "text": [
      "<class 'pandas.core.frame.DataFrame'>\n",
      "RangeIndex: 2685053 entries, 0 to 2685052\n",
      "Data columns (total 28 columns):\n",
      " #   Column              Dtype  \n",
      "---  ------              -----  \n",
      " 0   TP_FAIXA_ETARIA     int64  \n",
      " 1   TP_SEXO             object \n",
      " 2   TP_ESTADO_CIVIL     int64  \n",
      " 3   TP_COR_RACA         int64  \n",
      " 4   TP_NACIONALIDADE    int64  \n",
      " 5   TP_ST_CONCLUSAO     int64  \n",
      " 6   TP_ESCOLA           int64  \n",
      " 7   IN_TREINEIRO        int64  \n",
      " 8   NO_MUNICIPIO_PROVA  object \n",
      " 9   SG_UF_PROVA         object \n",
      " 10  TP_PRESENCA_CN      int64  \n",
      " 11  TP_PRESENCA_CH      int64  \n",
      " 12  TP_PRESENCA_LC      int64  \n",
      " 13  TP_PRESENCA_MT      int64  \n",
      " 14  NU_NOTA_CN          float64\n",
      " 15  NU_NOTA_CH          float64\n",
      " 16  NU_NOTA_LC          float64\n",
      " 17  NU_NOTA_MT          float64\n",
      " 18  TP_STATUS_REDACAO   float64\n",
      " 19  NU_NOTA_REDACAO     float64\n",
      " 20  Q001                object \n",
      " 21  Q002                object \n",
      " 22  Q003                object \n",
      " 23  Q004                object \n",
      " 24  Q005                float64\n",
      " 25  Q006                object \n",
      " 26  Q024                object \n",
      " 27  Q025                object \n",
      "dtypes: float64(7), int64(11), object(10)\n",
      "memory usage: 573.6+ MB\n"
     ]
    }
   ],
   "source": [
    "dados.info()"
   ]
  },
  {
   "cell_type": "code",
   "execution_count": null,
   "id": "69aeaab3",
   "metadata": {
    "id": "69aeaab3",
    "outputId": "fab858d7-42c1-4519-c528-65e82d46aded"
   },
   "outputs": [
    {
     "name": "stdout",
     "output_type": "stream",
     "text": [
      "Total de linhas da base original: 2,685,053\n"
     ]
    }
   ],
   "source": [
    "total_linhas_df = len(dados)\n",
    "print(f'Total de linhas da base original: {(total_linhas_df):,.0f}')"
   ]
  },
  {
   "cell_type": "markdown",
   "id": "da42c8ba",
   "metadata": {
    "id": "da42c8ba"
   },
   "source": [
    "## 2 - Análise de valores vazios de cada coluna."
   ]
  },
  {
   "cell_type": "code",
   "execution_count": null,
   "id": "a90c4d73",
   "metadata": {
    "id": "a90c4d73"
   },
   "outputs": [],
   "source": [
    "def analisar_nan(coluna):\n",
    "    #return(dados.loc[dados[coluna].isna(), coluna])\n",
    "    df = dados.loc[dados[coluna].isna(), coluna]\n",
    "    return(len(df))"
   ]
  },
  {
   "cell_type": "code",
   "execution_count": null,
   "id": "d83e344d",
   "metadata": {
    "id": "d83e344d",
    "outputId": "107e3c0e-f0f2-4d52-a192-8acb4a1844a5"
   },
   "outputs": [
    {
     "data": {
      "text/plain": [
       "Index(['TP_FAIXA_ETARIA', 'TP_SEXO', 'TP_ESTADO_CIVIL', 'TP_COR_RACA',\n",
       "       'TP_NACIONALIDADE', 'TP_ST_CONCLUSAO', 'TP_ESCOLA', 'IN_TREINEIRO',\n",
       "       'NO_MUNICIPIO_PROVA', 'SG_UF_PROVA', 'TP_PRESENCA_CN', 'TP_PRESENCA_CH',\n",
       "       'TP_PRESENCA_LC', 'TP_PRESENCA_MT', 'NU_NOTA_CN', 'NU_NOTA_CH',\n",
       "       'NU_NOTA_LC', 'NU_NOTA_MT', 'TP_STATUS_REDACAO', 'NU_NOTA_REDACAO',\n",
       "       'Q001', 'Q002', 'Q003', 'Q004', 'Q005', 'Q006', 'Q024', 'Q025'],\n",
       "      dtype='object')"
      ]
     },
     "execution_count": 48,
     "metadata": {},
     "output_type": "execute_result"
    }
   ],
   "source": [
    "dados.columns"
   ]
  },
  {
   "cell_type": "code",
   "execution_count": null,
   "id": "19fe675c",
   "metadata": {
    "id": "19fe675c"
   },
   "outputs": [],
   "source": [
    "cols = [\n",
    "        'TP_FAIXA_ETARIA', \n",
    "        'TP_SEXO',\n",
    "        'TP_ESTADO_CIVIL', \n",
    "        'TP_COR_RACA', \n",
    "        'TP_NACIONALIDADE', \n",
    "        'TP_ST_CONCLUSAO', \n",
    "        'TP_ESCOLA',\n",
    "        'IN_TREINEIRO',\n",
    "        'NO_MUNICIPIO_PROVA',\n",
    "        'SG_UF_PROVA',\n",
    "        'TP_PRESENCA_CN', \n",
    "        'TP_PRESENCA_CH', \n",
    "        'TP_PRESENCA_LC',\n",
    "        'TP_PRESENCA_MT',\n",
    "        'NU_NOTA_CN', \n",
    "        'NU_NOTA_CH', \n",
    "        'NU_NOTA_LC', \n",
    "        'NU_NOTA_MT',\n",
    "        'TP_STATUS_REDACAO',\n",
    "        'NU_NOTA_REDACAO', \n",
    "        'Q001', \n",
    "        'Q002', \n",
    "        'Q003', \n",
    "        'Q004',\n",
    "        'Q005', \n",
    "        'Q006', \n",
    "        'Q024', \n",
    "        'Q025'\n",
    "        ]"
   ]
  },
  {
   "cell_type": "code",
   "execution_count": null,
   "id": "beaed23a",
   "metadata": {
    "id": "beaed23a",
    "outputId": "d458a561-38de-4d22-d336-1fa7be39401c"
   },
   "outputs": [
    {
     "name": "stdout",
     "output_type": "stream",
     "text": [
      "Coluna NU_NOTA_CN tem 744,350 valores vazios 27.72%.\n",
      "\n",
      "Coluna NU_NOTA_CH tem 643,280 valores vazios 23.96%.\n",
      "\n",
      "Coluna NU_NOTA_LC tem 643,280 valores vazios 23.96%.\n",
      "\n",
      "Coluna NU_NOTA_MT tem 744,350 valores vazios 27.72%.\n",
      "\n",
      "Coluna TP_STATUS_REDACAO tem 643,280 valores vazios 23.96%.\n",
      "\n",
      "Coluna NU_NOTA_REDACAO tem 643,280 valores vazios 23.96%.\n",
      "\n",
      "Coluna Q001 tem 1 valores vazios 0.00%.\n",
      "\n",
      "Coluna Q002 tem 1 valores vazios 0.00%.\n",
      "\n",
      "Coluna Q003 tem 1 valores vazios 0.00%.\n",
      "\n",
      "Coluna Q004 tem 1 valores vazios 0.00%.\n",
      "\n",
      "Coluna Q005 tem 1 valores vazios 0.00%.\n",
      "\n",
      "Coluna Q006 tem 1 valores vazios 0.00%.\n",
      "\n",
      "Coluna Q024 tem 1 valores vazios 0.00%.\n",
      "\n",
      "Coluna Q025 tem 1 valores vazios 0.00%.\n",
      "\n",
      "Foram encontradas 14 colunas com valores vazios.\n"
     ]
    }
   ],
   "source": [
    "cont = 0\n",
    "for coluna in cols:\n",
    "    nan = analisar_nan(coluna)\n",
    "    if nan != 0:\n",
    "        cont += 1\n",
    "        print(f'Coluna {coluna} tem {(nan):,.0f} valores vazios {(nan / total_linhas_df):.2%}.\\n')\n",
    "print(f'Foram encontradas {cont} colunas com valores vazios.')"
   ]
  },
  {
   "cell_type": "code",
   "execution_count": null,
   "id": "b470bb3b",
   "metadata": {
    "id": "b470bb3b"
   },
   "outputs": [],
   "source": []
  }
 ],
 "metadata": {
  "colab": {
   "name": "TCC_IV.ipynb",
   "provenance": []
  },
  "kernelspec": {
   "display_name": "Python 3 (ipykernel)",
   "language": "python",
   "name": "python3"
  },
  "language_info": {
   "codemirror_mode": {
    "name": "ipython",
    "version": 3
   },
   "file_extension": ".py",
   "mimetype": "text/x-python",
   "name": "python",
   "nbconvert_exporter": "python",
   "pygments_lexer": "ipython3",
   "version": "3.9.12"
  }
 },
 "nbformat": 4,
 "nbformat_minor": 5
}
