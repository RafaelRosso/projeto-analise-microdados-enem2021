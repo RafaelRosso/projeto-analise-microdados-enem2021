{
 "cells": [
  {
   "cell_type": "code",
   "execution_count": 59,
   "id": "47bb1114",
   "metadata": {},
   "outputs": [],
   "source": [
    "import pandas as pd"
   ]
  },
  {
   "cell_type": "code",
   "execution_count": 60,
   "id": "43d8543b",
   "metadata": {},
   "outputs": [],
   "source": [
    "url_or_file = 'Dados_Enem_2021.csv'"
   ]
  },
  {
   "cell_type": "code",
   "execution_count": 61,
   "id": "a58973cf",
   "metadata": {},
   "outputs": [],
   "source": [
    "dados = pd.read_csv(url_or_file, sep = ',', encoding = 'utf-8')"
   ]
  },
  {
   "cell_type": "code",
   "execution_count": 62,
   "id": "c89493a2",
   "metadata": {},
   "outputs": [
    {
     "data": {
      "text/html": [
       "<div>\n",
       "<style scoped>\n",
       "    .dataframe tbody tr th:only-of-type {\n",
       "        vertical-align: middle;\n",
       "    }\n",
       "\n",
       "    .dataframe tbody tr th {\n",
       "        vertical-align: top;\n",
       "    }\n",
       "\n",
       "    .dataframe thead th {\n",
       "        text-align: right;\n",
       "    }\n",
       "</style>\n",
       "<table border=\"1\" class=\"dataframe\">\n",
       "  <thead>\n",
       "    <tr style=\"text-align: right;\">\n",
       "      <th></th>\n",
       "      <th>TP_FAIXA_ETARIA</th>\n",
       "      <th>TP_SEXO</th>\n",
       "      <th>TP_ESTADO_CIVIL</th>\n",
       "      <th>TP_COR_RACA</th>\n",
       "      <th>TP_NACIONALIDADE</th>\n",
       "      <th>TP_ST_CONCLUSAO</th>\n",
       "      <th>TP_ESCOLA</th>\n",
       "      <th>IN_TREINEIRO</th>\n",
       "      <th>NO_MUNICIPIO_PROVA</th>\n",
       "      <th>SG_UF_PROVA</th>\n",
       "      <th>...</th>\n",
       "      <th>NU_NOTA_REDACAO</th>\n",
       "      <th>Q001</th>\n",
       "      <th>Q002</th>\n",
       "      <th>Q003</th>\n",
       "      <th>Q004</th>\n",
       "      <th>Q005</th>\n",
       "      <th>Q006</th>\n",
       "      <th>Q024</th>\n",
       "      <th>Q025</th>\n",
       "      <th>MEDIA_ENEM</th>\n",
       "    </tr>\n",
       "  </thead>\n",
       "  <tbody>\n",
       "    <tr>\n",
       "      <th>0</th>\n",
       "      <td>5</td>\n",
       "      <td>F</td>\n",
       "      <td>1</td>\n",
       "      <td>1</td>\n",
       "      <td>1</td>\n",
       "      <td>1</td>\n",
       "      <td>1</td>\n",
       "      <td>0</td>\n",
       "      <td>Nova Lima</td>\n",
       "      <td>MG</td>\n",
       "      <td>...</td>\n",
       "      <td>760.0</td>\n",
       "      <td>F</td>\n",
       "      <td>F</td>\n",
       "      <td>B</td>\n",
       "      <td>B</td>\n",
       "      <td>3</td>\n",
       "      <td>D</td>\n",
       "      <td>B</td>\n",
       "      <td>B</td>\n",
       "      <td>361.44</td>\n",
       "    </tr>\n",
       "    <tr>\n",
       "      <th>1</th>\n",
       "      <td>12</td>\n",
       "      <td>M</td>\n",
       "      <td>1</td>\n",
       "      <td>1</td>\n",
       "      <td>1</td>\n",
       "      <td>1</td>\n",
       "      <td>1</td>\n",
       "      <td>0</td>\n",
       "      <td>Maceió</td>\n",
       "      <td>AL</td>\n",
       "      <td>...</td>\n",
       "      <td>560.0</td>\n",
       "      <td>B</td>\n",
       "      <td>B</td>\n",
       "      <td>B</td>\n",
       "      <td>B</td>\n",
       "      <td>3</td>\n",
       "      <td>B</td>\n",
       "      <td>A</td>\n",
       "      <td>A</td>\n",
       "      <td>515.50</td>\n",
       "    </tr>\n",
       "    <tr>\n",
       "      <th>2</th>\n",
       "      <td>13</td>\n",
       "      <td>F</td>\n",
       "      <td>3</td>\n",
       "      <td>1</td>\n",
       "      <td>1</td>\n",
       "      <td>1</td>\n",
       "      <td>1</td>\n",
       "      <td>0</td>\n",
       "      <td>Ferraz de Vasconcelos</td>\n",
       "      <td>SP</td>\n",
       "      <td>...</td>\n",
       "      <td>0.0</td>\n",
       "      <td>B</td>\n",
       "      <td>C</td>\n",
       "      <td>C</td>\n",
       "      <td>B</td>\n",
       "      <td>3</td>\n",
       "      <td>C</td>\n",
       "      <td>B</td>\n",
       "      <td>B</td>\n",
       "      <td>0.00</td>\n",
       "    </tr>\n",
       "    <tr>\n",
       "      <th>3</th>\n",
       "      <td>3</td>\n",
       "      <td>M</td>\n",
       "      <td>1</td>\n",
       "      <td>3</td>\n",
       "      <td>1</td>\n",
       "      <td>2</td>\n",
       "      <td>2</td>\n",
       "      <td>0</td>\n",
       "      <td>Crato</td>\n",
       "      <td>CE</td>\n",
       "      <td>...</td>\n",
       "      <td>780.0</td>\n",
       "      <td>B</td>\n",
       "      <td>B</td>\n",
       "      <td>B</td>\n",
       "      <td>B</td>\n",
       "      <td>6</td>\n",
       "      <td>B</td>\n",
       "      <td>B</td>\n",
       "      <td>B</td>\n",
       "      <td>667.60</td>\n",
       "    </tr>\n",
       "    <tr>\n",
       "      <th>4</th>\n",
       "      <td>2</td>\n",
       "      <td>F</td>\n",
       "      <td>1</td>\n",
       "      <td>3</td>\n",
       "      <td>1</td>\n",
       "      <td>2</td>\n",
       "      <td>2</td>\n",
       "      <td>0</td>\n",
       "      <td>Acarape</td>\n",
       "      <td>CE</td>\n",
       "      <td>...</td>\n",
       "      <td>780.0</td>\n",
       "      <td>D</td>\n",
       "      <td>E</td>\n",
       "      <td>F</td>\n",
       "      <td>D</td>\n",
       "      <td>4</td>\n",
       "      <td>C</td>\n",
       "      <td>B</td>\n",
       "      <td>B</td>\n",
       "      <td>570.06</td>\n",
       "    </tr>\n",
       "    <tr>\n",
       "      <th>5</th>\n",
       "      <td>10</td>\n",
       "      <td>F</td>\n",
       "      <td>1</td>\n",
       "      <td>3</td>\n",
       "      <td>1</td>\n",
       "      <td>1</td>\n",
       "      <td>1</td>\n",
       "      <td>0</td>\n",
       "      <td>Cascavel</td>\n",
       "      <td>CE</td>\n",
       "      <td>...</td>\n",
       "      <td>0.0</td>\n",
       "      <td>H</td>\n",
       "      <td>E</td>\n",
       "      <td>F</td>\n",
       "      <td>B</td>\n",
       "      <td>1</td>\n",
       "      <td>B</td>\n",
       "      <td>A</td>\n",
       "      <td>B</td>\n",
       "      <td>0.00</td>\n",
       "    </tr>\n",
       "    <tr>\n",
       "      <th>6</th>\n",
       "      <td>9</td>\n",
       "      <td>F</td>\n",
       "      <td>0</td>\n",
       "      <td>3</td>\n",
       "      <td>1</td>\n",
       "      <td>1</td>\n",
       "      <td>1</td>\n",
       "      <td>0</td>\n",
       "      <td>Tramandaí</td>\n",
       "      <td>RS</td>\n",
       "      <td>...</td>\n",
       "      <td>480.0</td>\n",
       "      <td>B</td>\n",
       "      <td>C</td>\n",
       "      <td>B</td>\n",
       "      <td>B</td>\n",
       "      <td>3</td>\n",
       "      <td>C</td>\n",
       "      <td>A</td>\n",
       "      <td>B</td>\n",
       "      <td>282.46</td>\n",
       "    </tr>\n",
       "    <tr>\n",
       "      <th>7</th>\n",
       "      <td>4</td>\n",
       "      <td>F</td>\n",
       "      <td>1</td>\n",
       "      <td>1</td>\n",
       "      <td>1</td>\n",
       "      <td>1</td>\n",
       "      <td>1</td>\n",
       "      <td>0</td>\n",
       "      <td>Matão</td>\n",
       "      <td>SP</td>\n",
       "      <td>...</td>\n",
       "      <td>0.0</td>\n",
       "      <td>E</td>\n",
       "      <td>G</td>\n",
       "      <td>C</td>\n",
       "      <td>D</td>\n",
       "      <td>4</td>\n",
       "      <td>G</td>\n",
       "      <td>B</td>\n",
       "      <td>B</td>\n",
       "      <td>0.00</td>\n",
       "    </tr>\n",
       "    <tr>\n",
       "      <th>8</th>\n",
       "      <td>8</td>\n",
       "      <td>F</td>\n",
       "      <td>1</td>\n",
       "      <td>3</td>\n",
       "      <td>1</td>\n",
       "      <td>2</td>\n",
       "      <td>2</td>\n",
       "      <td>0</td>\n",
       "      <td>Belo Horizonte</td>\n",
       "      <td>MG</td>\n",
       "      <td>...</td>\n",
       "      <td>520.0</td>\n",
       "      <td>B</td>\n",
       "      <td>B</td>\n",
       "      <td>B</td>\n",
       "      <td>B</td>\n",
       "      <td>2</td>\n",
       "      <td>B</td>\n",
       "      <td>A</td>\n",
       "      <td>B</td>\n",
       "      <td>485.60</td>\n",
       "    </tr>\n",
       "    <tr>\n",
       "      <th>9</th>\n",
       "      <td>4</td>\n",
       "      <td>F</td>\n",
       "      <td>1</td>\n",
       "      <td>3</td>\n",
       "      <td>1</td>\n",
       "      <td>2</td>\n",
       "      <td>2</td>\n",
       "      <td>0</td>\n",
       "      <td>Ruy Barbosa</td>\n",
       "      <td>BA</td>\n",
       "      <td>...</td>\n",
       "      <td>380.0</td>\n",
       "      <td>D</td>\n",
       "      <td>D</td>\n",
       "      <td>D</td>\n",
       "      <td>B</td>\n",
       "      <td>2</td>\n",
       "      <td>B</td>\n",
       "      <td>A</td>\n",
       "      <td>B</td>\n",
       "      <td>466.94</td>\n",
       "    </tr>\n",
       "    <tr>\n",
       "      <th>10</th>\n",
       "      <td>5</td>\n",
       "      <td>F</td>\n",
       "      <td>1</td>\n",
       "      <td>3</td>\n",
       "      <td>1</td>\n",
       "      <td>1</td>\n",
       "      <td>1</td>\n",
       "      <td>0</td>\n",
       "      <td>Goiânia</td>\n",
       "      <td>GO</td>\n",
       "      <td>...</td>\n",
       "      <td>980.0</td>\n",
       "      <td>E</td>\n",
       "      <td>E</td>\n",
       "      <td>B</td>\n",
       "      <td>D</td>\n",
       "      <td>2</td>\n",
       "      <td>B</td>\n",
       "      <td>B</td>\n",
       "      <td>B</td>\n",
       "      <td>735.44</td>\n",
       "    </tr>\n",
       "    <tr>\n",
       "      <th>11</th>\n",
       "      <td>2</td>\n",
       "      <td>F</td>\n",
       "      <td>1</td>\n",
       "      <td>1</td>\n",
       "      <td>1</td>\n",
       "      <td>2</td>\n",
       "      <td>2</td>\n",
       "      <td>0</td>\n",
       "      <td>Nova Cruz</td>\n",
       "      <td>RN</td>\n",
       "      <td>...</td>\n",
       "      <td>680.0</td>\n",
       "      <td>D</td>\n",
       "      <td>D</td>\n",
       "      <td>A</td>\n",
       "      <td>B</td>\n",
       "      <td>4</td>\n",
       "      <td>B</td>\n",
       "      <td>B</td>\n",
       "      <td>B</td>\n",
       "      <td>512.76</td>\n",
       "    </tr>\n",
       "    <tr>\n",
       "      <th>12</th>\n",
       "      <td>11</td>\n",
       "      <td>M</td>\n",
       "      <td>2</td>\n",
       "      <td>3</td>\n",
       "      <td>1</td>\n",
       "      <td>1</td>\n",
       "      <td>1</td>\n",
       "      <td>0</td>\n",
       "      <td>Belém</td>\n",
       "      <td>PA</td>\n",
       "      <td>...</td>\n",
       "      <td>560.0</td>\n",
       "      <td>E</td>\n",
       "      <td>E</td>\n",
       "      <td>D</td>\n",
       "      <td>B</td>\n",
       "      <td>3</td>\n",
       "      <td>C</td>\n",
       "      <td>B</td>\n",
       "      <td>B</td>\n",
       "      <td>527.40</td>\n",
       "    </tr>\n",
       "    <tr>\n",
       "      <th>13</th>\n",
       "      <td>5</td>\n",
       "      <td>M</td>\n",
       "      <td>1</td>\n",
       "      <td>2</td>\n",
       "      <td>1</td>\n",
       "      <td>1</td>\n",
       "      <td>1</td>\n",
       "      <td>0</td>\n",
       "      <td>Rio de Janeiro</td>\n",
       "      <td>RJ</td>\n",
       "      <td>...</td>\n",
       "      <td>0.0</td>\n",
       "      <td>B</td>\n",
       "      <td>E</td>\n",
       "      <td>B</td>\n",
       "      <td>B</td>\n",
       "      <td>4</td>\n",
       "      <td>D</td>\n",
       "      <td>A</td>\n",
       "      <td>B</td>\n",
       "      <td>0.00</td>\n",
       "    </tr>\n",
       "    <tr>\n",
       "      <th>14</th>\n",
       "      <td>5</td>\n",
       "      <td>F</td>\n",
       "      <td>1</td>\n",
       "      <td>2</td>\n",
       "      <td>1</td>\n",
       "      <td>2</td>\n",
       "      <td>2</td>\n",
       "      <td>0</td>\n",
       "      <td>Salvador</td>\n",
       "      <td>BA</td>\n",
       "      <td>...</td>\n",
       "      <td>0.0</td>\n",
       "      <td>G</td>\n",
       "      <td>E</td>\n",
       "      <td>E</td>\n",
       "      <td>C</td>\n",
       "      <td>1</td>\n",
       "      <td>B</td>\n",
       "      <td>B</td>\n",
       "      <td>B</td>\n",
       "      <td>0.00</td>\n",
       "    </tr>\n",
       "    <tr>\n",
       "      <th>15</th>\n",
       "      <td>4</td>\n",
       "      <td>F</td>\n",
       "      <td>1</td>\n",
       "      <td>3</td>\n",
       "      <td>1</td>\n",
       "      <td>1</td>\n",
       "      <td>1</td>\n",
       "      <td>0</td>\n",
       "      <td>Sinop</td>\n",
       "      <td>MT</td>\n",
       "      <td>...</td>\n",
       "      <td>540.0</td>\n",
       "      <td>D</td>\n",
       "      <td>E</td>\n",
       "      <td>C</td>\n",
       "      <td>B</td>\n",
       "      <td>2</td>\n",
       "      <td>B</td>\n",
       "      <td>B</td>\n",
       "      <td>B</td>\n",
       "      <td>450.70</td>\n",
       "    </tr>\n",
       "    <tr>\n",
       "      <th>16</th>\n",
       "      <td>7</td>\n",
       "      <td>F</td>\n",
       "      <td>1</td>\n",
       "      <td>1</td>\n",
       "      <td>1</td>\n",
       "      <td>1</td>\n",
       "      <td>1</td>\n",
       "      <td>0</td>\n",
       "      <td>São Lourenço da Mata</td>\n",
       "      <td>PE</td>\n",
       "      <td>...</td>\n",
       "      <td>720.0</td>\n",
       "      <td>E</td>\n",
       "      <td>E</td>\n",
       "      <td>D</td>\n",
       "      <td>B</td>\n",
       "      <td>2</td>\n",
       "      <td>B</td>\n",
       "      <td>A</td>\n",
       "      <td>B</td>\n",
       "      <td>533.82</td>\n",
       "    </tr>\n",
       "    <tr>\n",
       "      <th>17</th>\n",
       "      <td>8</td>\n",
       "      <td>M</td>\n",
       "      <td>1</td>\n",
       "      <td>3</td>\n",
       "      <td>1</td>\n",
       "      <td>1</td>\n",
       "      <td>1</td>\n",
       "      <td>0</td>\n",
       "      <td>Niquelândia</td>\n",
       "      <td>GO</td>\n",
       "      <td>...</td>\n",
       "      <td>880.0</td>\n",
       "      <td>E</td>\n",
       "      <td>E</td>\n",
       "      <td>A</td>\n",
       "      <td>A</td>\n",
       "      <td>3</td>\n",
       "      <td>D</td>\n",
       "      <td>B</td>\n",
       "      <td>B</td>\n",
       "      <td>605.08</td>\n",
       "    </tr>\n",
       "    <tr>\n",
       "      <th>18</th>\n",
       "      <td>2</td>\n",
       "      <td>F</td>\n",
       "      <td>1</td>\n",
       "      <td>3</td>\n",
       "      <td>1</td>\n",
       "      <td>2</td>\n",
       "      <td>2</td>\n",
       "      <td>0</td>\n",
       "      <td>Esperantinópolis</td>\n",
       "      <td>MA</td>\n",
       "      <td>...</td>\n",
       "      <td>780.0</td>\n",
       "      <td>B</td>\n",
       "      <td>B</td>\n",
       "      <td>A</td>\n",
       "      <td>A</td>\n",
       "      <td>4</td>\n",
       "      <td>B</td>\n",
       "      <td>A</td>\n",
       "      <td>A</td>\n",
       "      <td>559.56</td>\n",
       "    </tr>\n",
       "    <tr>\n",
       "      <th>19</th>\n",
       "      <td>11</td>\n",
       "      <td>M</td>\n",
       "      <td>1</td>\n",
       "      <td>3</td>\n",
       "      <td>1</td>\n",
       "      <td>1</td>\n",
       "      <td>1</td>\n",
       "      <td>0</td>\n",
       "      <td>São Lourenço da Mata</td>\n",
       "      <td>PE</td>\n",
       "      <td>...</td>\n",
       "      <td>860.0</td>\n",
       "      <td>E</td>\n",
       "      <td>E</td>\n",
       "      <td>B</td>\n",
       "      <td>B</td>\n",
       "      <td>2</td>\n",
       "      <td>C</td>\n",
       "      <td>A</td>\n",
       "      <td>B</td>\n",
       "      <td>563.34</td>\n",
       "    </tr>\n",
       "  </tbody>\n",
       "</table>\n",
       "<p>20 rows × 29 columns</p>\n",
       "</div>"
      ],
      "text/plain": [
       "    TP_FAIXA_ETARIA TP_SEXO  TP_ESTADO_CIVIL  TP_COR_RACA  TP_NACIONALIDADE  \\\n",
       "0                 5       F                1            1                 1   \n",
       "1                12       M                1            1                 1   \n",
       "2                13       F                3            1                 1   \n",
       "3                 3       M                1            3                 1   \n",
       "4                 2       F                1            3                 1   \n",
       "5                10       F                1            3                 1   \n",
       "6                 9       F                0            3                 1   \n",
       "7                 4       F                1            1                 1   \n",
       "8                 8       F                1            3                 1   \n",
       "9                 4       F                1            3                 1   \n",
       "10                5       F                1            3                 1   \n",
       "11                2       F                1            1                 1   \n",
       "12               11       M                2            3                 1   \n",
       "13                5       M                1            2                 1   \n",
       "14                5       F                1            2                 1   \n",
       "15                4       F                1            3                 1   \n",
       "16                7       F                1            1                 1   \n",
       "17                8       M                1            3                 1   \n",
       "18                2       F                1            3                 1   \n",
       "19               11       M                1            3                 1   \n",
       "\n",
       "    TP_ST_CONCLUSAO  TP_ESCOLA  IN_TREINEIRO     NO_MUNICIPIO_PROVA  \\\n",
       "0                 1          1             0              Nova Lima   \n",
       "1                 1          1             0                 Maceió   \n",
       "2                 1          1             0  Ferraz de Vasconcelos   \n",
       "3                 2          2             0                  Crato   \n",
       "4                 2          2             0                Acarape   \n",
       "5                 1          1             0               Cascavel   \n",
       "6                 1          1             0              Tramandaí   \n",
       "7                 1          1             0                  Matão   \n",
       "8                 2          2             0         Belo Horizonte   \n",
       "9                 2          2             0            Ruy Barbosa   \n",
       "10                1          1             0                Goiânia   \n",
       "11                2          2             0              Nova Cruz   \n",
       "12                1          1             0                  Belém   \n",
       "13                1          1             0         Rio de Janeiro   \n",
       "14                2          2             0               Salvador   \n",
       "15                1          1             0                  Sinop   \n",
       "16                1          1             0   São Lourenço da Mata   \n",
       "17                1          1             0            Niquelândia   \n",
       "18                2          2             0       Esperantinópolis   \n",
       "19                1          1             0   São Lourenço da Mata   \n",
       "\n",
       "   SG_UF_PROVA  ...  NU_NOTA_REDACAO  Q001  Q002  Q003  Q004  Q005  Q006  \\\n",
       "0           MG  ...            760.0     F     F     B     B     3     D   \n",
       "1           AL  ...            560.0     B     B     B     B     3     B   \n",
       "2           SP  ...              0.0     B     C     C     B     3     C   \n",
       "3           CE  ...            780.0     B     B     B     B     6     B   \n",
       "4           CE  ...            780.0     D     E     F     D     4     C   \n",
       "5           CE  ...              0.0     H     E     F     B     1     B   \n",
       "6           RS  ...            480.0     B     C     B     B     3     C   \n",
       "7           SP  ...              0.0     E     G     C     D     4     G   \n",
       "8           MG  ...            520.0     B     B     B     B     2     B   \n",
       "9           BA  ...            380.0     D     D     D     B     2     B   \n",
       "10          GO  ...            980.0     E     E     B     D     2     B   \n",
       "11          RN  ...            680.0     D     D     A     B     4     B   \n",
       "12          PA  ...            560.0     E     E     D     B     3     C   \n",
       "13          RJ  ...              0.0     B     E     B     B     4     D   \n",
       "14          BA  ...              0.0     G     E     E     C     1     B   \n",
       "15          MT  ...            540.0     D     E     C     B     2     B   \n",
       "16          PE  ...            720.0     E     E     D     B     2     B   \n",
       "17          GO  ...            880.0     E     E     A     A     3     D   \n",
       "18          MA  ...            780.0     B     B     A     A     4     B   \n",
       "19          PE  ...            860.0     E     E     B     B     2     C   \n",
       "\n",
       "    Q024  Q025  MEDIA_ENEM  \n",
       "0      B     B      361.44  \n",
       "1      A     A      515.50  \n",
       "2      B     B        0.00  \n",
       "3      B     B      667.60  \n",
       "4      B     B      570.06  \n",
       "5      A     B        0.00  \n",
       "6      A     B      282.46  \n",
       "7      B     B        0.00  \n",
       "8      A     B      485.60  \n",
       "9      A     B      466.94  \n",
       "10     B     B      735.44  \n",
       "11     B     B      512.76  \n",
       "12     B     B      527.40  \n",
       "13     A     B        0.00  \n",
       "14     B     B        0.00  \n",
       "15     B     B      450.70  \n",
       "16     A     B      533.82  \n",
       "17     B     B      605.08  \n",
       "18     A     A      559.56  \n",
       "19     A     B      563.34  \n",
       "\n",
       "[20 rows x 29 columns]"
      ]
     },
     "execution_count": 62,
     "metadata": {},
     "output_type": "execute_result"
    }
   ],
   "source": [
    "dados.head(20)"
   ]
  },
  {
   "cell_type": "code",
   "execution_count": 63,
   "id": "df039630",
   "metadata": {},
   "outputs": [
    {
     "name": "stdout",
     "output_type": "stream",
     "text": [
      "<class 'pandas.core.frame.DataFrame'>\n",
      "RangeIndex: 2685052 entries, 0 to 2685051\n",
      "Data columns (total 29 columns):\n",
      " #   Column              Dtype  \n",
      "---  ------              -----  \n",
      " 0   TP_FAIXA_ETARIA     int64  \n",
      " 1   TP_SEXO             object \n",
      " 2   TP_ESTADO_CIVIL     int64  \n",
      " 3   TP_COR_RACA         int64  \n",
      " 4   TP_NACIONALIDADE    int64  \n",
      " 5   TP_ST_CONCLUSAO     int64  \n",
      " 6   TP_ESCOLA           int64  \n",
      " 7   IN_TREINEIRO        int64  \n",
      " 8   NO_MUNICIPIO_PROVA  object \n",
      " 9   SG_UF_PROVA         object \n",
      " 10  TP_PRESENCA_CN      int64  \n",
      " 11  TP_PRESENCA_CH      int64  \n",
      " 12  TP_PRESENCA_LC      int64  \n",
      " 13  TP_PRESENCA_MT      int64  \n",
      " 14  NU_NOTA_CN          float64\n",
      " 15  NU_NOTA_CH          float64\n",
      " 16  NU_NOTA_LC          float64\n",
      " 17  NU_NOTA_MT          float64\n",
      " 18  TP_STATUS_REDACAO   int64  \n",
      " 19  NU_NOTA_REDACAO     float64\n",
      " 20  Q001                object \n",
      " 21  Q002                object \n",
      " 22  Q003                object \n",
      " 23  Q004                object \n",
      " 24  Q005                int64  \n",
      " 25  Q006                object \n",
      " 26  Q024                object \n",
      " 27  Q025                object \n",
      " 28  MEDIA_ENEM          float64\n",
      "dtypes: float64(6), int64(13), object(10)\n",
      "memory usage: 594.1+ MB\n"
     ]
    }
   ],
   "source": [
    "dados.info()"
   ]
  },
  {
   "cell_type": "markdown",
   "id": "b06c658c",
   "metadata": {},
   "source": [
    "### Qual foi o número de inscritos para o ENEM 2021 ?"
   ]
  },
  {
   "cell_type": "code",
   "execution_count": 64,
   "id": "4f8b0f3b",
   "metadata": {},
   "outputs": [
    {
     "name": "stdout",
     "output_type": "stream",
     "text": [
      "Quantidade de inscritos validados para nossa esquisa: 2,685,052\n"
     ]
    }
   ],
   "source": [
    "nr_inscritos = len(dados)\n",
    "print(f'Quantidade de inscritos validados para nossa esquisa: {(len(dados)):,.0f}')"
   ]
  },
  {
   "cell_type": "markdown",
   "id": "73ab65b8",
   "metadata": {},
   "source": [
    "### Qual o número e % de inscritos do sexo masculino ?"
   ]
  },
  {
   "cell_type": "code",
   "execution_count": 65,
   "id": "14ec373a",
   "metadata": {},
   "outputs": [
    {
     "name": "stdout",
     "output_type": "stream",
     "text": [
      "Inscritos sexo masculino: 998,995\n",
      "Percentual de inscritos sexo masculino: 37.21%\n"
     ]
    }
   ],
   "source": [
    "inscritos_masc = len(dados[dados['TP_SEXO'] == 'M'])\n",
    "print(f'Inscritos sexo masculino: {(inscritos_masc):,.0f}')\n",
    "print(f'Percentual de inscritos sexo masculino: {(inscritos_masc / nr_inscritos):.2%}')"
   ]
  },
  {
   "cell_type": "markdown",
   "id": "ca336b6d",
   "metadata": {},
   "source": [
    "### Qual o número e % de inscritos do sexo feminino ?"
   ]
  },
  {
   "cell_type": "code",
   "execution_count": 66,
   "id": "4b267b02",
   "metadata": {},
   "outputs": [
    {
     "name": "stdout",
     "output_type": "stream",
     "text": [
      "Inscritos sexo feminino: 1,686,057\n",
      "Percentual de inscritos sexo feminino: 62.79%\n"
     ]
    }
   ],
   "source": [
    "inscritos_fem = len(dados[dados['TP_SEXO'] == 'F'])\n",
    "print(f'Inscritos sexo feminino: {(inscritos_fem):,.0f}')\n",
    "print(f'Percentual de inscritos sexo feminino: {(inscritos_fem / nr_inscritos):.2%}')"
   ]
  },
  {
   "cell_type": "code",
   "execution_count": 67,
   "id": "b33ed93f",
   "metadata": {},
   "outputs": [
    {
     "name": "stdout",
     "output_type": "stream",
     "text": [
      "Quantitativos coerentes.\n"
     ]
    }
   ],
   "source": [
    "if (inscritos_fem + inscritos_masc) != nr_inscritos:\n",
    "    print('Aviso: divergência entre quantidades de inscritos masculinos e femininos em relação ao total.')\n",
    "else:\n",
    "    print('Quantitativos coerentes.')"
   ]
  },
  {
   "cell_type": "code",
   "execution_count": 68,
   "id": "13642826",
   "metadata": {
    "scrolled": true
   },
   "outputs": [
    {
     "data": {
      "text/plain": [
       "<AxesSubplot:>"
      ]
     },
     "execution_count": 68,
     "metadata": {},
     "output_type": "execute_result"
    },
    {
     "data": {
      "image/png": "[encoded data removed]",
      "text/plain": [
       "<Figure size 432x288 with 1 Axes>"
      ]
     },
     "metadata": {
      "needs_background": "light"
     },
     "output_type": "display_data"
    }
   ],
   "source": [
    "distribuicao_sexo = dados['TP_SEXO'].value_counts()\n",
    "distribuicao_sexo.plot(kind = 'bar')"
   ]
  },
  {
   "cell_type": "code",
   "execution_count": 69,
   "id": "f30721d5",
   "metadata": {
    "scrolled": true
   },
   "outputs": [
    {
     "data": {
      "text/plain": [
       "<AxesSubplot:ylabel='TP_SEXO'>"
      ]
     },
     "execution_count": 69,
     "metadata": {},
     "output_type": "execute_result"
    },
    {
     "data": {
      "image/png": "[encoded data removed]",
      "text/plain": [
       "<Figure size 432x288 with 1 Axes>"
      ]
     },
     "metadata": {},
     "output_type": "display_data"
    }
   ],
   "source": [
    "distribuicao_sexo.plot(kind = 'pie')"
   ]
  },
  {
   "cell_type": "markdown",
   "id": "07251e33",
   "metadata": {},
   "source": [
    "### Qual é a quantidade de inscritos por região do Brasil ?"
   ]
  },
  {
   "cell_type": "code",
   "execution_count": 70,
   "id": "45804ee0",
   "metadata": {},
   "outputs": [
    {
     "name": "stdout",
     "output_type": "stream",
     "text": [
      "27\n"
     ]
    }
   ],
   "source": [
    "regiao_norte = ['AC', 'AM', 'AP', 'PA', 'RO', 'RR', 'TO']\n",
    "regiao_nordeste = ['AL', 'BA', 'CE', 'MA', 'PI', 'PE', 'PB', 'RN', 'SE']\n",
    "regiao_sul = ['RS', 'SC', 'PR']\n",
    "regiao_centro_oeste = ['GO', 'MT', 'MS', 'DF']\n",
    "regiao_sudeste = ['SP', 'RJ', 'MG', 'ES']\n",
    "print(len(regiao_norte)+len(regiao_nordeste)+len(regiao_sul)+len(regiao_centro_oeste)+len(regiao_sudeste))"
   ]
  },
  {
   "cell_type": "code",
   "execution_count": 71,
   "id": "5aa9acb4",
   "metadata": {},
   "outputs": [],
   "source": [
    "# Criação,inicialização e posterior inserção de dados da coluna 'REGIAO'\n",
    "dados['REGIAO'] = None"
   ]
  },
  {
   "cell_type": "code",
   "execution_count": 72,
   "id": "fe60d04f",
   "metadata": {},
   "outputs": [],
   "source": [
    "for estado in regiao_nordeste:\n",
    "    dados.loc[dados['SG_UF_PROVA'] == estado, 'REGIAO'] = 'Nordeste'\n",
    "\n",
    "for estado in regiao_norte:\n",
    "    dados.loc[dados['SG_UF_PROVA'] == estado, 'REGIAO'] = 'Norte'\n",
    "\n",
    "for estado in regiao_sul:\n",
    "    dados.loc[dados['SG_UF_PROVA'] == estado, 'REGIAO'] = 'Sul'\n",
    "    \n",
    "for estado in regiao_sudeste:\n",
    "    dados.loc[dados['SG_UF_PROVA'] == estado, 'REGIAO'] = 'Sudeste'\n",
    "    \n",
    "for estado in regiao_centro_oeste:\n",
    "    dados.loc[dados['SG_UF_PROVA'] == estado, 'REGIAO'] = 'Centro Oeste'"
   ]
  },
  {
   "cell_type": "code",
   "execution_count": 73,
   "id": "c9cadd6b",
   "metadata": {},
   "outputs": [
    {
     "name": "stdout",
     "output_type": "stream",
     "text": [
      "<class 'pandas.core.frame.DataFrame'>\n",
      "RangeIndex: 2685052 entries, 0 to 2685051\n",
      "Data columns (total 30 columns):\n",
      " #   Column              Dtype  \n",
      "---  ------              -----  \n",
      " 0   TP_FAIXA_ETARIA     int64  \n",
      " 1   TP_SEXO             object \n",
      " 2   TP_ESTADO_CIVIL     int64  \n",
      " 3   TP_COR_RACA         int64  \n",
      " 4   TP_NACIONALIDADE    int64  \n",
      " 5   TP_ST_CONCLUSAO     int64  \n",
      " 6   TP_ESCOLA           int64  \n",
      " 7   IN_TREINEIRO        int64  \n",
      " 8   NO_MUNICIPIO_PROVA  object \n",
      " 9   SG_UF_PROVA         object \n",
      " 10  TP_PRESENCA_CN      int64  \n",
      " 11  TP_PRESENCA_CH      int64  \n",
      " 12  TP_PRESENCA_LC      int64  \n",
      " 13  TP_PRESENCA_MT      int64  \n",
      " 14  NU_NOTA_CN          float64\n",
      " 15  NU_NOTA_CH          float64\n",
      " 16  NU_NOTA_LC          float64\n",
      " 17  NU_NOTA_MT          float64\n",
      " 18  TP_STATUS_REDACAO   int64  \n",
      " 19  NU_NOTA_REDACAO     float64\n",
      " 20  Q001                object \n",
      " 21  Q002                object \n",
      " 22  Q003                object \n",
      " 23  Q004                object \n",
      " 24  Q005                int64  \n",
      " 25  Q006                object \n",
      " 26  Q024                object \n",
      " 27  Q025                object \n",
      " 28  MEDIA_ENEM          float64\n",
      " 29  REGIAO              object \n",
      "dtypes: float64(6), int64(13), object(11)\n",
      "memory usage: 614.6+ MB\n"
     ]
    }
   ],
   "source": [
    "dados.info()"
   ]
  },
  {
   "cell_type": "code",
   "execution_count": 74,
   "id": "f5c59563",
   "metadata": {
    "scrolled": true
   },
   "outputs": [
    {
     "data": {
      "text/html": [
       "<div>\n",
       "<style scoped>\n",
       "    .dataframe tbody tr th:only-of-type {\n",
       "        vertical-align: middle;\n",
       "    }\n",
       "\n",
       "    .dataframe tbody tr th {\n",
       "        vertical-align: top;\n",
       "    }\n",
       "\n",
       "    .dataframe thead th {\n",
       "        text-align: right;\n",
       "    }\n",
       "</style>\n",
       "<table border=\"1\" class=\"dataframe\">\n",
       "  <thead>\n",
       "    <tr style=\"text-align: right;\">\n",
       "      <th></th>\n",
       "      <th>TP_FAIXA_ETARIA</th>\n",
       "      <th>TP_SEXO</th>\n",
       "      <th>TP_ESTADO_CIVIL</th>\n",
       "      <th>TP_COR_RACA</th>\n",
       "      <th>TP_NACIONALIDADE</th>\n",
       "      <th>TP_ST_CONCLUSAO</th>\n",
       "      <th>TP_ESCOLA</th>\n",
       "      <th>IN_TREINEIRO</th>\n",
       "      <th>NO_MUNICIPIO_PROVA</th>\n",
       "      <th>SG_UF_PROVA</th>\n",
       "      <th>...</th>\n",
       "      <th>Q001</th>\n",
       "      <th>Q002</th>\n",
       "      <th>Q003</th>\n",
       "      <th>Q004</th>\n",
       "      <th>Q005</th>\n",
       "      <th>Q006</th>\n",
       "      <th>Q024</th>\n",
       "      <th>Q025</th>\n",
       "      <th>MEDIA_ENEM</th>\n",
       "      <th>REGIAO</th>\n",
       "    </tr>\n",
       "  </thead>\n",
       "  <tbody>\n",
       "    <tr>\n",
       "      <th>0</th>\n",
       "      <td>5</td>\n",
       "      <td>F</td>\n",
       "      <td>1</td>\n",
       "      <td>1</td>\n",
       "      <td>1</td>\n",
       "      <td>1</td>\n",
       "      <td>1</td>\n",
       "      <td>0</td>\n",
       "      <td>Nova Lima</td>\n",
       "      <td>MG</td>\n",
       "      <td>...</td>\n",
       "      <td>F</td>\n",
       "      <td>F</td>\n",
       "      <td>B</td>\n",
       "      <td>B</td>\n",
       "      <td>3</td>\n",
       "      <td>D</td>\n",
       "      <td>B</td>\n",
       "      <td>B</td>\n",
       "      <td>361.44</td>\n",
       "      <td>Sudeste</td>\n",
       "    </tr>\n",
       "    <tr>\n",
       "      <th>1</th>\n",
       "      <td>12</td>\n",
       "      <td>M</td>\n",
       "      <td>1</td>\n",
       "      <td>1</td>\n",
       "      <td>1</td>\n",
       "      <td>1</td>\n",
       "      <td>1</td>\n",
       "      <td>0</td>\n",
       "      <td>Maceió</td>\n",
       "      <td>AL</td>\n",
       "      <td>...</td>\n",
       "      <td>B</td>\n",
       "      <td>B</td>\n",
       "      <td>B</td>\n",
       "      <td>B</td>\n",
       "      <td>3</td>\n",
       "      <td>B</td>\n",
       "      <td>A</td>\n",
       "      <td>A</td>\n",
       "      <td>515.50</td>\n",
       "      <td>Nordeste</td>\n",
       "    </tr>\n",
       "    <tr>\n",
       "      <th>2</th>\n",
       "      <td>13</td>\n",
       "      <td>F</td>\n",
       "      <td>3</td>\n",
       "      <td>1</td>\n",
       "      <td>1</td>\n",
       "      <td>1</td>\n",
       "      <td>1</td>\n",
       "      <td>0</td>\n",
       "      <td>Ferraz de Vasconcelos</td>\n",
       "      <td>SP</td>\n",
       "      <td>...</td>\n",
       "      <td>B</td>\n",
       "      <td>C</td>\n",
       "      <td>C</td>\n",
       "      <td>B</td>\n",
       "      <td>3</td>\n",
       "      <td>C</td>\n",
       "      <td>B</td>\n",
       "      <td>B</td>\n",
       "      <td>0.00</td>\n",
       "      <td>Sudeste</td>\n",
       "    </tr>\n",
       "    <tr>\n",
       "      <th>3</th>\n",
       "      <td>3</td>\n",
       "      <td>M</td>\n",
       "      <td>1</td>\n",
       "      <td>3</td>\n",
       "      <td>1</td>\n",
       "      <td>2</td>\n",
       "      <td>2</td>\n",
       "      <td>0</td>\n",
       "      <td>Crato</td>\n",
       "      <td>CE</td>\n",
       "      <td>...</td>\n",
       "      <td>B</td>\n",
       "      <td>B</td>\n",
       "      <td>B</td>\n",
       "      <td>B</td>\n",
       "      <td>6</td>\n",
       "      <td>B</td>\n",
       "      <td>B</td>\n",
       "      <td>B</td>\n",
       "      <td>667.60</td>\n",
       "      <td>Nordeste</td>\n",
       "    </tr>\n",
       "    <tr>\n",
       "      <th>4</th>\n",
       "      <td>2</td>\n",
       "      <td>F</td>\n",
       "      <td>1</td>\n",
       "      <td>3</td>\n",
       "      <td>1</td>\n",
       "      <td>2</td>\n",
       "      <td>2</td>\n",
       "      <td>0</td>\n",
       "      <td>Acarape</td>\n",
       "      <td>CE</td>\n",
       "      <td>...</td>\n",
       "      <td>D</td>\n",
       "      <td>E</td>\n",
       "      <td>F</td>\n",
       "      <td>D</td>\n",
       "      <td>4</td>\n",
       "      <td>C</td>\n",
       "      <td>B</td>\n",
       "      <td>B</td>\n",
       "      <td>570.06</td>\n",
       "      <td>Nordeste</td>\n",
       "    </tr>\n",
       "    <tr>\n",
       "      <th>5</th>\n",
       "      <td>10</td>\n",
       "      <td>F</td>\n",
       "      <td>1</td>\n",
       "      <td>3</td>\n",
       "      <td>1</td>\n",
       "      <td>1</td>\n",
       "      <td>1</td>\n",
       "      <td>0</td>\n",
       "      <td>Cascavel</td>\n",
       "      <td>CE</td>\n",
       "      <td>...</td>\n",
       "      <td>H</td>\n",
       "      <td>E</td>\n",
       "      <td>F</td>\n",
       "      <td>B</td>\n",
       "      <td>1</td>\n",
       "      <td>B</td>\n",
       "      <td>A</td>\n",
       "      <td>B</td>\n",
       "      <td>0.00</td>\n",
       "      <td>Nordeste</td>\n",
       "    </tr>\n",
       "    <tr>\n",
       "      <th>6</th>\n",
       "      <td>9</td>\n",
       "      <td>F</td>\n",
       "      <td>0</td>\n",
       "      <td>3</td>\n",
       "      <td>1</td>\n",
       "      <td>1</td>\n",
       "      <td>1</td>\n",
       "      <td>0</td>\n",
       "      <td>Tramandaí</td>\n",
       "      <td>RS</td>\n",
       "      <td>...</td>\n",
       "      <td>B</td>\n",
       "      <td>C</td>\n",
       "      <td>B</td>\n",
       "      <td>B</td>\n",
       "      <td>3</td>\n",
       "      <td>C</td>\n",
       "      <td>A</td>\n",
       "      <td>B</td>\n",
       "      <td>282.46</td>\n",
       "      <td>Sul</td>\n",
       "    </tr>\n",
       "    <tr>\n",
       "      <th>7</th>\n",
       "      <td>4</td>\n",
       "      <td>F</td>\n",
       "      <td>1</td>\n",
       "      <td>1</td>\n",
       "      <td>1</td>\n",
       "      <td>1</td>\n",
       "      <td>1</td>\n",
       "      <td>0</td>\n",
       "      <td>Matão</td>\n",
       "      <td>SP</td>\n",
       "      <td>...</td>\n",
       "      <td>E</td>\n",
       "      <td>G</td>\n",
       "      <td>C</td>\n",
       "      <td>D</td>\n",
       "      <td>4</td>\n",
       "      <td>G</td>\n",
       "      <td>B</td>\n",
       "      <td>B</td>\n",
       "      <td>0.00</td>\n",
       "      <td>Sudeste</td>\n",
       "    </tr>\n",
       "    <tr>\n",
       "      <th>8</th>\n",
       "      <td>8</td>\n",
       "      <td>F</td>\n",
       "      <td>1</td>\n",
       "      <td>3</td>\n",
       "      <td>1</td>\n",
       "      <td>2</td>\n",
       "      <td>2</td>\n",
       "      <td>0</td>\n",
       "      <td>Belo Horizonte</td>\n",
       "      <td>MG</td>\n",
       "      <td>...</td>\n",
       "      <td>B</td>\n",
       "      <td>B</td>\n",
       "      <td>B</td>\n",
       "      <td>B</td>\n",
       "      <td>2</td>\n",
       "      <td>B</td>\n",
       "      <td>A</td>\n",
       "      <td>B</td>\n",
       "      <td>485.60</td>\n",
       "      <td>Sudeste</td>\n",
       "    </tr>\n",
       "    <tr>\n",
       "      <th>9</th>\n",
       "      <td>4</td>\n",
       "      <td>F</td>\n",
       "      <td>1</td>\n",
       "      <td>3</td>\n",
       "      <td>1</td>\n",
       "      <td>2</td>\n",
       "      <td>2</td>\n",
       "      <td>0</td>\n",
       "      <td>Ruy Barbosa</td>\n",
       "      <td>BA</td>\n",
       "      <td>...</td>\n",
       "      <td>D</td>\n",
       "      <td>D</td>\n",
       "      <td>D</td>\n",
       "      <td>B</td>\n",
       "      <td>2</td>\n",
       "      <td>B</td>\n",
       "      <td>A</td>\n",
       "      <td>B</td>\n",
       "      <td>466.94</td>\n",
       "      <td>Nordeste</td>\n",
       "    </tr>\n",
       "  </tbody>\n",
       "</table>\n",
       "<p>10 rows × 30 columns</p>\n",
       "</div>"
      ],
      "text/plain": [
       "   TP_FAIXA_ETARIA TP_SEXO  TP_ESTADO_CIVIL  TP_COR_RACA  TP_NACIONALIDADE  \\\n",
       "0                5       F                1            1                 1   \n",
       "1               12       M                1            1                 1   \n",
       "2               13       F                3            1                 1   \n",
       "3                3       M                1            3                 1   \n",
       "4                2       F                1            3                 1   \n",
       "5               10       F                1            3                 1   \n",
       "6                9       F                0            3                 1   \n",
       "7                4       F                1            1                 1   \n",
       "8                8       F                1            3                 1   \n",
       "9                4       F                1            3                 1   \n",
       "\n",
       "   TP_ST_CONCLUSAO  TP_ESCOLA  IN_TREINEIRO     NO_MUNICIPIO_PROVA  \\\n",
       "0                1          1             0              Nova Lima   \n",
       "1                1          1             0                 Maceió   \n",
       "2                1          1             0  Ferraz de Vasconcelos   \n",
       "3                2          2             0                  Crato   \n",
       "4                2          2             0                Acarape   \n",
       "5                1          1             0               Cascavel   \n",
       "6                1          1             0              Tramandaí   \n",
       "7                1          1             0                  Matão   \n",
       "8                2          2             0         Belo Horizonte   \n",
       "9                2          2             0            Ruy Barbosa   \n",
       "\n",
       "  SG_UF_PROVA  ...  Q001  Q002  Q003  Q004  Q005  Q006  Q024  Q025  \\\n",
       "0          MG  ...     F     F     B     B     3     D     B     B   \n",
       "1          AL  ...     B     B     B     B     3     B     A     A   \n",
       "2          SP  ...     B     C     C     B     3     C     B     B   \n",
       "3          CE  ...     B     B     B     B     6     B     B     B   \n",
       "4          CE  ...     D     E     F     D     4     C     B     B   \n",
       "5          CE  ...     H     E     F     B     1     B     A     B   \n",
       "6          RS  ...     B     C     B     B     3     C     A     B   \n",
       "7          SP  ...     E     G     C     D     4     G     B     B   \n",
       "8          MG  ...     B     B     B     B     2     B     A     B   \n",
       "9          BA  ...     D     D     D     B     2     B     A     B   \n",
       "\n",
       "   MEDIA_ENEM    REGIAO  \n",
       "0      361.44   Sudeste  \n",
       "1      515.50  Nordeste  \n",
       "2        0.00   Sudeste  \n",
       "3      667.60  Nordeste  \n",
       "4      570.06  Nordeste  \n",
       "5        0.00  Nordeste  \n",
       "6      282.46       Sul  \n",
       "7        0.00   Sudeste  \n",
       "8      485.60   Sudeste  \n",
       "9      466.94  Nordeste  \n",
       "\n",
       "[10 rows x 30 columns]"
      ]
     },
     "execution_count": 74,
     "metadata": {},
     "output_type": "execute_result"
    }
   ],
   "source": [
    "dados.head(10)"
   ]
  },
  {
   "cell_type": "code",
   "execution_count": 75,
   "id": "250fb1a9",
   "metadata": {},
   "outputs": [],
   "source": [
    "regioes = ['Norte', 'Nordeste', 'Centro Oeste', 'Sul', 'Sudeste']"
   ]
  },
  {
   "cell_type": "code",
   "execution_count": 76,
   "id": "6a143f56",
   "metadata": {
    "scrolled": true
   },
   "outputs": [
    {
     "name": "stdout",
     "output_type": "stream",
     "text": [
      "Total de inscritos na região Norte: 291,168 - 10.84% do total nacional.\n",
      "Total de inscritos na região Nordeste: 959,926 - 35.75% do total nacional.\n",
      "Total de inscritos na região Centro Oeste: 243,997 - 9.09% do total nacional.\n",
      "Total de inscritos na região Sul: 294,915 - 10.98% do total nacional.\n",
      "Total de inscritos na região Sudeste: 895,046 - 33.33% do total nacional.\n",
      "Quantitativos coerentes.\n"
     ]
    }
   ],
   "source": [
    "cont = 0\n",
    "for regiao in regioes:\n",
    "    inscritos_regiao = (dados[dados[\"REGIAO\"] == regiao].shape[0])\n",
    "    cont += inscritos_regiao\n",
    "    print(f'Total de inscritos na região {regiao}: {(inscritos_regiao):,.0f} - {(inscritos_regiao / nr_inscritos):.2%} do total nacional.')\n",
    "\n",
    "if cont != nr_inscritos:\n",
    "    print('Aviso: divergência entre quantidade total de inscritos e totalização por região.')\n",
    "else:\n",
    "    print('Quantitativos coerentes.')"
   ]
  },
  {
   "cell_type": "code",
   "execution_count": 77,
   "id": "b209efb3",
   "metadata": {
    "scrolled": true
   },
   "outputs": [
    {
     "data": {
      "text/plain": [
       "<AxesSubplot:>"
      ]
     },
     "execution_count": 77,
     "metadata": {},
     "output_type": "execute_result"
    },
    {
     "data": {
      "image/png": "[encoded data removed]",
      "text/plain": [
       "<Figure size 432x288 with 1 Axes>"
      ]
     },
     "metadata": {
      "needs_background": "light"
     },
     "output_type": "display_data"
    }
   ],
   "source": [
    "distribuicao_regiao = dados['REGIAO'].value_counts()\n",
    "distribuicao_regiao.plot(kind = 'bar', rot = 45)  # Define inclinação de 45º da descrição de cada barra."
   ]
  },
  {
   "cell_type": "code",
   "execution_count": 78,
   "id": "f9809395",
   "metadata": {
    "scrolled": true
   },
   "outputs": [
    {
     "data": {
      "text/plain": [
       "<AxesSubplot:ylabel='REGIAO'>"
      ]
     },
     "execution_count": 78,
     "metadata": {},
     "output_type": "execute_result"
    },
    {
     "data": {
      "image/png": "[encoded data removed]",
      "text/plain": [
       "<Figure size 432x288 with 1 Axes>"
      ]
     },
     "metadata": {},
     "output_type": "display_data"
    }
   ],
   "source": [
    "distribuicao_regiao.plot(kind = 'pie')  # Melhorar visualização"
   ]
  },
  {
   "cell_type": "markdown",
   "id": "a234a963",
   "metadata": {},
   "source": [
    "## Qual o número e % de inscritos por sexo masculino em cada região ?"
   ]
  },
  {
   "cell_type": "code",
   "execution_count": 79,
   "id": "f6f77145",
   "metadata": {},
   "outputs": [
    {
     "name": "stdout",
     "output_type": "stream",
     "text": [
      "Região Norte:\n",
      "108,693 candidatos sexo masculino 37.33%.\n",
      "182,475 candidatas sexo feminino 62.67%.\n",
      "====================================================\n",
      "Região Nordeste:\n",
      "365,309 candidatos sexo masculino 38.06%.\n",
      "594,617 candidatas sexo feminino 61.94%.\n",
      "====================================================\n",
      "Região Centro Oeste:\n",
      "91,160 candidatos sexo masculino 37.36%.\n",
      "152,837 candidatas sexo feminino 62.64%.\n",
      "====================================================\n",
      "Região Sul:\n",
      "105,283 candidatos sexo masculino 35.70%.\n",
      "189,632 candidatas sexo feminino 64.30%.\n",
      "====================================================\n",
      "Região Sudeste:\n",
      "328,550 candidatos sexo masculino 36.71%.\n",
      "566,496 candidatas sexo feminino 63.29%.\n",
      "====================================================\n"
     ]
    }
   ],
   "source": [
    "masc = fem = 0\n",
    "for regiao in regioes:\n",
    "    inscritos_regiao = (dados[dados[\"REGIAO\"] == regiao].shape[0])\n",
    "    m = len(dados[(dados['REGIAO'] == regiao) & (dados['TP_SEXO'] == 'M')])\n",
    "    f = len(dados[(dados[\"REGIAO\"] == regiao) & (dados[\"TP_SEXO\"] == \"F\")])\n",
    "    masc += m\n",
    "    fem += f\n",
    "    print(f'Região {regiao}:')\n",
    "    print(f'{(m):,.0f} candidatos sexo masculino {(m / inscritos_regiao):.2%}.')\n",
    "    print(f'{(f):,.0f} candidatas sexo feminino {(f / inscritos_regiao):.2%}.')\n",
    "    print('====================================================')\n",
    "    \n",
    "\n",
    "if (masc != inscritos_masc):\n",
    "    print('Divergência de dados sexo Masculino!')\n",
    "\n",
    "if (fem != inscritos_fem):\n",
    "    print('Divergência de dados sexo Feminino!')"
   ]
  },
  {
   "cell_type": "markdown",
   "id": "316b7746",
   "metadata": {},
   "source": [
    "### Observação: a partir destes dados já analisados, percebe-se que os percentuais regionais de candidatos do sexo feminino e masculino estão muito próximos dos percentuais nacionais, evidenciando tanto a nível nacional como regional, uma significativa superioridade de número de inscrições do sexo feminino."
   ]
  },
  {
   "cell_type": "markdown",
   "id": "79b989ad",
   "metadata": {},
   "source": [
    "## Qual é a distribuição nacional por estado civil ?"
   ]
  },
  {
   "cell_type": "raw",
   "id": "e5a2e2b6",
   "metadata": {},
   "source": [
    "Legenda oficial:\n",
    "0 - Não informado\n",
    "1 - Solteiro(a)\n",
    "2 - Casado(a) / mora com companheiro(a)\n",
    "3 - Divorciado(a) / Desquitado(a) / Separado(a)\n",
    "4 - Viúvo(a)"
   ]
  },
  {
   "cell_type": "code",
   "execution_count": 80,
   "id": "e77f5baa",
   "metadata": {},
   "outputs": [
    {
     "data": {
      "text/plain": [
       "1    2427050\n",
       "2     118983\n",
       "0     101729\n",
       "3      34937\n",
       "4       2353\n",
       "Name: TP_ESTADO_CIVIL, dtype: int64"
      ]
     },
     "execution_count": 80,
     "metadata": {},
     "output_type": "execute_result"
    }
   ],
   "source": [
    "dados['TP_ESTADO_CIVIL'].value_counts()"
   ]
  },
  {
   "cell_type": "code",
   "execution_count": 81,
   "id": "857a60c3",
   "metadata": {},
   "outputs": [],
   "source": [
    "dic_legenda_estado_civil = {0: 'Não informado', 1: 'Solteiro(a)', 2: 'Casado(a) / mora com companheiro(a)', \n",
    "                    3: 'Divorciado(a) / Desquitado(a) / Separado(a)', 4: 'Viúvo(a)'}"
   ]
  },
  {
   "cell_type": "code",
   "execution_count": 82,
   "id": "a568822f",
   "metadata": {
    "scrolled": false
   },
   "outputs": [
    {
     "data": {
      "text/plain": [
       "<AxesSubplot:ylabel='TP_ESTADO_CIVIL'>"
      ]
     },
     "execution_count": 82,
     "metadata": {},
     "output_type": "execute_result"
    },
    {
     "data": {
      "image/png": "[encoded data removed]",
      "text/plain": [
       "<Figure size 432x288 with 1 Axes>"
      ]
     },
     "metadata": {},
     "output_type": "display_data"
    }
   ],
   "source": [
    "estado_civil = dados['TP_ESTADO_CIVIL'].value_counts()\n",
    "estado_civil.plot(kind = 'pie')"
   ]
  },
  {
   "cell_type": "code",
   "execution_count": 83,
   "id": "e93e7f5a",
   "metadata": {
    "scrolled": true
   },
   "outputs": [],
   "source": [
    "estado_civil = dict(dados['TP_ESTADO_CIVIL'].value_counts())"
   ]
  },
  {
   "cell_type": "code",
   "execution_count": 84,
   "id": "79585098",
   "metadata": {},
   "outputs": [
    {
     "name": "stdout",
     "output_type": "stream",
     "text": [
      "Solteiro(a): 2,427,050 inscritos (90.39%).\n",
      "Casado(a) / mora com companheiro(a): 118,983 inscritos (4.43%).\n",
      "Não informado: 101,729 inscritos (3.79%).\n",
      "Divorciado(a) / Desquitado(a) / Separado(a): 34,937 inscritos (1.30%).\n",
      "Viúvo(a): 2,353 inscritos (0.09%).\n"
     ]
    }
   ],
   "source": [
    "for chave in estado_civil:\n",
    "    print(f'{dic_legenda_estado_civil[chave]}: {(estado_civil[chave]):,.0f} inscritos ({(estado_civil[chave] / nr_inscritos):.2%}).')"
   ]
  },
  {
   "cell_type": "markdown",
   "id": "ad7181bc",
   "metadata": {},
   "source": [
    "## Qual é a distribuição nacional por cor/etnia ?"
   ]
  },
  {
   "cell_type": "raw",
   "id": "13a3219d",
   "metadata": {},
   "source": [
    "Legenda oficial - terminologia adotada pelo ENEM 2021:\n",
    "0 - Não declarado\n",
    "1 - Branca\n",
    "2 - Preta\n",
    "3 - Parda\n",
    "4 - Amarela\n",
    "5 - Indígena\n",
    "6 - Não dispõe da informação"
   ]
  },
  {
   "cell_type": "code",
   "execution_count": 85,
   "id": "c73e2d01",
   "metadata": {
    "scrolled": true
   },
   "outputs": [
    {
     "data": {
      "text/plain": [
       "3    1140076\n",
       "1    1109377\n",
       "2     309856\n",
       "0      56944\n",
       "4      54461\n",
       "5      14333\n",
       "6          5\n",
       "Name: TP_COR_RACA, dtype: int64"
      ]
     },
     "execution_count": 85,
     "metadata": {},
     "output_type": "execute_result"
    }
   ],
   "source": [
    "dados['TP_COR_RACA'].value_counts()"
   ]
  },
  {
   "cell_type": "code",
   "execution_count": 86,
   "id": "5e851eb9",
   "metadata": {},
   "outputs": [],
   "source": [
    "dic_legenda_cor_raca = {0: 'Não declarado', 1: 'Branca', 2: 'Preta', 3: 'Parda', 4: 'Amarela', 5: 'Indígena', 6: 'Não dispõe da informação'}"
   ]
  },
  {
   "cell_type": "code",
   "execution_count": 87,
   "id": "03991b3d",
   "metadata": {},
   "outputs": [
    {
     "data": {
      "text/plain": [
       "<AxesSubplot:ylabel='TP_COR_RACA'>"
      ]
     },
     "execution_count": 87,
     "metadata": {},
     "output_type": "execute_result"
    },
    {
     "data": {
      "image/png": "[encoded data removed]",
      "text/plain": [
       "<Figure size 432x288 with 1 Axes>"
      ]
     },
     "metadata": {},
     "output_type": "display_data"
    }
   ],
   "source": [
    "cor_raca = dados['TP_COR_RACA'].value_counts()\n",
    "cor_raca.plot(kind = 'pie')"
   ]
  },
  {
   "cell_type": "code",
   "execution_count": 88,
   "id": "8c8c87b3",
   "metadata": {
    "scrolled": true
   },
   "outputs": [
    {
     "data": {
      "text/plain": [
       "<AxesSubplot:>"
      ]
     },
     "execution_count": 88,
     "metadata": {},
     "output_type": "execute_result"
    },
    {
     "data": {
      "image/png": "[encoded data removed]",
      "text/plain": [
       "<Figure size 432x288 with 1 Axes>"
      ]
     },
     "metadata": {
      "needs_background": "light"
     },
     "output_type": "display_data"
    }
   ],
   "source": [
    "cor_raca.plot(kind = 'bar')"
   ]
  },
  {
   "cell_type": "code",
   "execution_count": 89,
   "id": "25713018",
   "metadata": {},
   "outputs": [],
   "source": [
    "cor_raca = dict(dados['TP_COR_RACA'].value_counts())"
   ]
  },
  {
   "cell_type": "code",
   "execution_count": 90,
   "id": "10ab2529",
   "metadata": {},
   "outputs": [
    {
     "name": "stdout",
     "output_type": "stream",
     "text": [
      "Parda: 1,140,076 inscritos (42.46%).\n",
      "Branca: 1,109,377 inscritos (41.32%).\n",
      "Preta: 309,856 inscritos (11.54%).\n",
      "Não declarado: 56,944 inscritos (2.12%).\n",
      "Amarela: 54,461 inscritos (2.03%).\n",
      "Indígena: 14,333 inscritos (0.53%).\n",
      "Não dispõe da informação: 5 inscritos (0.00%).\n"
     ]
    }
   ],
   "source": [
    "for chave in cor_raca:\n",
    "    print(f'{dic_legenda_cor_raca[chave]}: {(cor_raca[chave]):,.0f} inscritos ({(cor_raca[chave] / nr_inscritos):.2%}).')"
   ]
  },
  {
   "cell_type": "markdown",
   "id": "d2569c21",
   "metadata": {},
   "source": [
    "## Qual é a distribuição nacional por nacionalidade ?"
   ]
  },
  {
   "cell_type": "code",
   "execution_count": 91,
   "id": "a2a68513",
   "metadata": {},
   "outputs": [
    {
     "data": {
      "text/plain": [
       "1    2621534\n",
       "2      52485\n",
       "4       5383\n",
       "3       3558\n",
       "0       2092\n",
       "Name: TP_NACIONALIDADE, dtype: int64"
      ]
     },
     "execution_count": 91,
     "metadata": {},
     "output_type": "execute_result"
    }
   ],
   "source": [
    "dados['TP_NACIONALIDADE'].value_counts()"
   ]
  },
  {
   "cell_type": "raw",
   "id": "44487614",
   "metadata": {},
   "source": [
    "Legenda oficial:\n",
    "0 - Não informado\n",
    "1 - Brasileiro(a)\n",
    "2 - Brasileiro(a) Naturalizado(a)\n",
    "3 - Estrangeiro(a)\n",
    "4 - Brasileiro(a) Nato(a), nascido(a) no exterior"
   ]
  },
  {
   "cell_type": "code",
   "execution_count": 92,
   "id": "14c19704",
   "metadata": {},
   "outputs": [],
   "source": [
    "nacionalidade = dados['TP_NACIONALIDADE'].value_counts()"
   ]
  },
  {
   "cell_type": "code",
   "execution_count": 93,
   "id": "4a35523a",
   "metadata": {},
   "outputs": [
    {
     "data": {
      "text/plain": [
       "<AxesSubplot:ylabel='TP_NACIONALIDADE'>"
      ]
     },
     "execution_count": 93,
     "metadata": {},
     "output_type": "execute_result"
    },
    {
     "data": {
      "image/png": "[encoded data removed]",
      "text/plain": [
       "<Figure size 432x288 with 1 Axes>"
      ]
     },
     "metadata": {},
     "output_type": "display_data"
    }
   ],
   "source": [
    "nacionalidade.plot(kind = 'pie')"
   ]
  },
  {
   "cell_type": "code",
   "execution_count": 94,
   "id": "63b5f427",
   "metadata": {},
   "outputs": [],
   "source": [
    "dic_legenda_nacionalidade = {0: 'Não informado', 1: 'Brasileiro(a)', 2: 'Brasileiro(a) Naturalizado(a)', 3: 'Estrangeiro(a)', 4: 'Brasileiro(a) Nato(a), nascido(a) no exterior'}"
   ]
  },
  {
   "cell_type": "code",
   "execution_count": 95,
   "id": "09f02770",
   "metadata": {},
   "outputs": [],
   "source": [
    "dic_nacionalidade = dict(dados['TP_NACIONALIDADE'].value_counts())"
   ]
  },
  {
   "cell_type": "code",
   "execution_count": 96,
   "id": "2760dc36",
   "metadata": {},
   "outputs": [
    {
     "data": {
      "text/plain": [
       "{1: 2621534, 2: 52485, 4: 5383, 3: 3558, 0: 2092}"
      ]
     },
     "execution_count": 96,
     "metadata": {},
     "output_type": "execute_result"
    }
   ],
   "source": [
    "dic_nacionalidade"
   ]
  },
  {
   "cell_type": "code",
   "execution_count": 97,
   "id": "0de0c3af",
   "metadata": {
    "scrolled": true
   },
   "outputs": [
    {
     "name": "stdout",
     "output_type": "stream",
     "text": [
      "Brasileiro(a): 2,621,534 inscritos 97.63%.\n",
      "Brasileiro(a) Naturalizado(a): 52,485 inscritos 1.95%.\n",
      "Brasileiro(a) Nato(a), nascido(a) no exterior: 5,383 inscritos 0.20%.\n",
      "Estrangeiro(a): 3,558 inscritos 0.13%.\n",
      "Não informado: 2,092 inscritos 0.08%.\n"
     ]
    }
   ],
   "source": [
    "for nacionalidade in dic_nacionalidade:\n",
    "    print(f'{dic_legenda_nacionalidade[nacionalidade]}: {(dic_nacionalidade[nacionalidade]):,.0f} inscritos {(dic_nacionalidade[nacionalidade] / nr_inscritos):.2%}.')"
   ]
  },
  {
   "cell_type": "markdown",
   "id": "4dc50600",
   "metadata": {},
   "source": [
    "## Qual é a distribuição nacional por tipo de escola ?\n",
    "### Obs: variável prejudicada devido alto número de resposta 1 - Não respondeu."
   ]
  },
  {
   "cell_type": "raw",
   "id": "d98181d5",
   "metadata": {},
   "source": [
    "Legenda oficial:\n",
    "1 - Não Respondeu\n",
    "2 - Pública\n",
    "3 - Privada"
   ]
  },
  {
   "cell_type": "code",
   "execution_count": 98,
   "id": "9d1b7cc4",
   "metadata": {
    "scrolled": true
   },
   "outputs": [
    {
     "data": {
      "text/plain": [
       "1    1660896\n",
       "2     845704\n",
       "3     178452\n",
       "Name: TP_ESCOLA, dtype: int64"
      ]
     },
     "execution_count": 98,
     "metadata": {},
     "output_type": "execute_result"
    }
   ],
   "source": [
    "dados['TP_ESCOLA'].value_counts()"
   ]
  },
  {
   "cell_type": "code",
   "execution_count": 99,
   "id": "e64c32c6",
   "metadata": {
    "scrolled": true
   },
   "outputs": [
    {
     "data": {
      "text/plain": [
       "<AxesSubplot:ylabel='TP_ESCOLA'>"
      ]
     },
     "execution_count": 99,
     "metadata": {},
     "output_type": "execute_result"
    },
    {
     "data": {
      "image/png": "[encoded data removed]",
      "text/plain": [
       "<Figure size 432x288 with 1 Axes>"
      ]
     },
     "metadata": {},
     "output_type": "display_data"
    }
   ],
   "source": [
    "tp_escola = dados['TP_ESCOLA'].value_counts()\n",
    "tp_escola.plot(kind = 'pie')"
   ]
  },
  {
   "cell_type": "markdown",
   "id": "b32e22cd",
   "metadata": {},
   "source": [
    "## Qual é a distribuição nacional por Situação de conclusão do Ensino Médio ?"
   ]
  },
  {
   "cell_type": "raw",
   "id": "c18fedc8",
   "metadata": {},
   "source": [
    "Legenda oficial:\n",
    "1 - Já concluí o Ensino Médio\n",
    "2 - Estou cursando e concluirei o Ensino Médio em 2021\n",
    "3 - Estou cursando e concluirei o Ensino Médio após 2021\n",
    "4 - Não concluí e não estou cursando o Ensino Médio"
   ]
  },
  {
   "cell_type": "code",
   "execution_count": 100,
   "id": "b1bd1d33",
   "metadata": {
    "scrolled": false
   },
   "outputs": [
    {
     "data": {
      "text/plain": [
       "1    1283662\n",
       "2    1024158\n",
       "3     368962\n",
       "4       8270\n",
       "Name: TP_ST_CONCLUSAO, dtype: int64"
      ]
     },
     "execution_count": 100,
     "metadata": {},
     "output_type": "execute_result"
    }
   ],
   "source": [
    "dados['TP_ST_CONCLUSAO'].value_counts()"
   ]
  },
  {
   "cell_type": "code",
   "execution_count": 101,
   "id": "56e0418a",
   "metadata": {},
   "outputs": [
    {
     "data": {
      "text/plain": [
       "<AxesSubplot:ylabel='TP_ST_CONCLUSAO'>"
      ]
     },
     "execution_count": 101,
     "metadata": {},
     "output_type": "execute_result"
    },
    {
     "data": {
      "image/png": "[encoded data removed]",
      "text/plain": [
       "<Figure size 432x288 with 1 Axes>"
      ]
     },
     "metadata": {},
     "output_type": "display_data"
    }
   ],
   "source": [
    "tp_situacao_conclusao = dados['TP_ST_CONCLUSAO'].value_counts()\n",
    "tp_situacao_conclusao.plot(kind = 'pie')"
   ]
  },
  {
   "cell_type": "markdown",
   "id": "6b50547c",
   "metadata": {},
   "source": [
    "## Qual é o índice de presença/abstenção/eliminação em cada uma das provas ?"
   ]
  },
  {
   "cell_type": "raw",
   "id": "ab37eb87",
   "metadata": {},
   "source": [
    "Legenda oficial:\n",
    "0 - Faltou à prova\n",
    "1 - Presente na prova\n",
    "2 - Eliminado na prova"
   ]
  },
  {
   "cell_type": "code",
   "execution_count": 121,
   "id": "b42a401f",
   "metadata": {},
   "outputs": [],
   "source": [
    "presenca_prova = [['TP_PRESENCA_CN', 'Ciências da Natureza'], ['TP_PRESENCA_MT', 'Matemática'], ['TP_PRESENCA_CH', 'Ciências Humanas'], ['TP_PRESENCA_LC', 'Linguagens e Códigos']]"
   ]
  },
  {
   "cell_type": "code",
   "execution_count": 122,
   "id": "f6e53aca",
   "metadata": {
    "scrolled": false
   },
   "outputs": [
    {
     "data": {
      "text/plain": [
       "1    1940702\n",
       "0     743149\n",
       "2       1201\n",
       "Name: TP_PRESENCA_CN, dtype: int64"
      ]
     },
     "execution_count": 122,
     "metadata": {},
     "output_type": "execute_result"
    }
   ],
   "source": [
    "dados['TP_PRESENCA_CN'].value_counts()"
   ]
  },
  {
   "cell_type": "code",
   "execution_count": 123,
   "id": "9c02b60b",
   "metadata": {
    "scrolled": true
   },
   "outputs": [
    {
     "data": {
      "text/plain": [
       "1    1940702\n",
       "0     743149\n",
       "2       1201\n",
       "Name: TP_PRESENCA_MT, dtype: int64"
      ]
     },
     "execution_count": 123,
     "metadata": {},
     "output_type": "execute_result"
    }
   ],
   "source": [
    "dados['TP_PRESENCA_MT'].value_counts()"
   ]
  },
  {
   "cell_type": "code",
   "execution_count": 124,
   "id": "de48bedf",
   "metadata": {},
   "outputs": [],
   "source": [
    "dic_legenda_presenca = {0: 'Faltou à prova', 1: 'Presente na prova', 2: 'Eliminado na prova'}"
   ]
  },
  {
   "cell_type": "code",
   "execution_count": 126,
   "id": "1d1f4e2c",
   "metadata": {},
   "outputs": [
    {
     "name": "stdout",
     "output_type": "stream",
     "text": [
      "Prova de Ciências da Natureza:\n",
      "Presente na prova: 1,940,702 (72.28%).\n",
      "Faltou à prova: 743,149 (27.68%).\n",
      "Eliminado na prova: 1,201 (0.04%).\n",
      "=======================\n",
      "Prova de Matemática:\n",
      "Presente na prova: 1,940,702 (72.28%).\n",
      "Faltou à prova: 743,149 (27.68%).\n",
      "Eliminado na prova: 1,201 (0.04%).\n",
      "=======================\n",
      "Prova de Ciências Humanas:\n",
      "Presente na prova: 2,041,772 (76.04%).\n",
      "Faltou à prova: 639,883 (23.83%).\n",
      "Eliminado na prova: 3,397 (0.13%).\n",
      "=======================\n",
      "Prova de Linguagens e Códigos:\n",
      "Presente na prova: 2,041,772 (76.04%).\n",
      "Faltou à prova: 639,883 (23.83%).\n",
      "Eliminado na prova: 3,397 (0.13%).\n",
      "=======================\n"
     ]
    }
   ],
   "source": [
    "for codigo, descricao in presenca_prova:\n",
    "    print(f'Prova de {descricao}:')\n",
    "    tp_presenca = dict(dados[codigo].value_counts())\n",
    "    for presenca in tp_presenca:\n",
    "        print(f'{dic_legenda_presenca[presenca]}: {(tp_presenca[presenca]):,.0f} ({(tp_presenca[presenca] / nr_inscritos):.2%}).')                 \n",
    "    print('=======================')"
   ]
  },
  {
   "cell_type": "markdown",
   "id": "d5a32aed",
   "metadata": {},
   "source": [
    "# Começar indicadores de notas/médias"
   ]
  },
  {
   "cell_type": "code",
   "execution_count": null,
   "id": "c402f520",
   "metadata": {},
   "outputs": [],
   "source": []
  }
 ],
 "metadata": {
  "kernelspec": {
   "display_name": "Python 3.10.6 64-bit",
   "language": "python",
   "name": "python3"
  },
  "language_info": {
   "codemirror_mode": {
    "name": "ipython",
    "version": 3
   },
   "file_extension": ".py",
   "mimetype": "text/x-python",
   "name": "python",
   "nbconvert_exporter": "python",
   "pygments_lexer": "ipython3",
   "version": "3.10.6"
  },
  "vscode": {
   "interpreter": {
    "hash": "afb734500600fd355917ca529030176ea0ca205570884b88f2f6f7d791fd3fbe"
   }
  }
 },
 "nbformat": 4,
 "nbformat_minor": 5
}
